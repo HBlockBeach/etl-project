{
 "cells": [
  {
   "cell_type": "code",
   "execution_count": 1,
   "metadata": {},
   "outputs": [],
   "source": [
    "#Import dependencies\n",
    "import pandas as pd\n"
   ]
  },
  {
   "cell_type": "code",
   "execution_count": 2,
   "metadata": {},
   "outputs": [],
   "source": [
    "#Read in data\n",
    "sars_data = pd.read_csv('sars_clean.csv')\n",
    "h1n1_data = pd.read_csv('h1n1_clean.csv')\n",
    "covid_data = pd.read_csv('cleancovids.csv')"
   ]
  },
  {
   "cell_type": "code",
   "execution_count": 3,
   "metadata": {},
   "outputs": [],
   "source": [
    "#pull country from each table\n",
    "\n",
    "sars_country = sars_data[['Country']]\n",
    "h1n1_country = h1n1_data[['Country']]\n",
    "covid_country = covid_data[['Country']]\n",
    "\n",
    "for country in covid_country[\"Country\"]:\n",
    "    if country == 'Taiwan*':\n",
    "        country = 'Taiwan'\n",
    "\n",
    "\n",
    "#append countries into list \n",
    "two_of_3 = sars_country.append(h1n1_country)\n",
    "combined_countries = two_of_3.append(covid_country)\n"
   ]
  },
  {
   "cell_type": "code",
   "execution_count": 4,
   "metadata": {
    "tags": [
     "outputPrepend",
     "outputPrepend"
    ]
   },
   "outputs": [],
   "source": [
    "#deduplicate data\n",
    "countries = []\n",
    "\n",
    "for row in combined_countries['Country']:\n",
    "    if row not in countries:\n",
    "        countries.append(row)\n",
    "\n",
    "#make list into df\n",
    "countries_table = pd.DataFrame({\"Country\" : countries})"
   ]
  },
  {
   "cell_type": "code",
   "execution_count": 5,
   "metadata": {},
   "outputs": [],
   "source": [
    "#give each country a unique id\n",
    "countries_table[\"Country_ID\"] = countries_table.reset_index().index"
   ]
  },
  {
   "cell_type": "code",
   "execution_count": 6,
   "metadata": {},
   "outputs": [],
   "source": [
    "#join tables to give country id\n",
    "\n",
    "sars_country_code = sars_data.merge(countries_table, how='left', left_on='Country', right_on=\"Country\")\n",
    "h1n1_country_code = h1n1_data.merge(countries_table, how='left', left_on='Country', right_on=\"Country\")\n",
    "covid_country_code = covid_data.merge(countries_table, how='left', left_on='Country', right_on=\"Country\")"
   ]
  },
  {
   "cell_type": "code",
   "execution_count": 7,
   "metadata": {},
   "outputs": [],
   "source": [
    "#drop country from dfs\n",
    "sars_country_code.drop('Country', axis=1, inplace=True)\n",
    "h1n1_country_code.drop('Country', axis=1, inplace=True)\n",
    "covid_country_code.drop('Country', axis=1, inplace=True) \n",
    "\n",
    "#add year\n",
    "sars_country_code[\"Year\"] = '2003'\n",
    "h1n1_country_code[\"Year\"] = '2009'\n",
    "covid_country_code[\"Year\"] = '2020'\n"
   ]
  },
  {
   "cell_type": "code",
   "execution_count": 10,
   "metadata": {},
   "outputs": [
    {
     "output_type": "execute_result",
     "data": {
      "text/plain": "     Year           Density  Country_ID\n0    2003   36.272510185951         123\n1    2009  43.4929586741415         123\n2    2020                60         123\n3    2003  110.934890510949         124\n4    2009  106.843759124088         124\n..    ...               ...         ...\n475  2009  17.7768587148065         197\n476  2020                25         197\n477  2003  30.9738244797725         198\n478  2009   32.381977510663         198\n479  2020                38         198\n\n[480 rows x 3 columns]",
      "text/html": "<div>\n<style scoped>\n    .dataframe tbody tr th:only-of-type {\n        vertical-align: middle;\n    }\n\n    .dataframe tbody tr th {\n        vertical-align: top;\n    }\n\n    .dataframe thead th {\n        text-align: right;\n    }\n</style>\n<table border=\"1\" class=\"dataframe\">\n  <thead>\n    <tr style=\"text-align: right;\">\n      <th></th>\n      <th>Year</th>\n      <th>Density</th>\n      <th>Country_ID</th>\n    </tr>\n  </thead>\n  <tbody>\n    <tr>\n      <th>0</th>\n      <td>2003</td>\n      <td>36.272510185951</td>\n      <td>123</td>\n    </tr>\n    <tr>\n      <th>1</th>\n      <td>2009</td>\n      <td>43.4929586741415</td>\n      <td>123</td>\n    </tr>\n    <tr>\n      <th>2</th>\n      <td>2020</td>\n      <td>60</td>\n      <td>123</td>\n    </tr>\n    <tr>\n      <th>3</th>\n      <td>2003</td>\n      <td>110.934890510949</td>\n      <td>124</td>\n    </tr>\n    <tr>\n      <th>4</th>\n      <td>2009</td>\n      <td>106.843759124088</td>\n      <td>124</td>\n    </tr>\n    <tr>\n      <th>...</th>\n      <td>...</td>\n      <td>...</td>\n      <td>...</td>\n    </tr>\n    <tr>\n      <th>475</th>\n      <td>2009</td>\n      <td>17.7768587148065</td>\n      <td>197</td>\n    </tr>\n    <tr>\n      <th>476</th>\n      <td>2020</td>\n      <td>25</td>\n      <td>197</td>\n    </tr>\n    <tr>\n      <th>477</th>\n      <td>2003</td>\n      <td>30.9738244797725</td>\n      <td>198</td>\n    </tr>\n    <tr>\n      <th>478</th>\n      <td>2009</td>\n      <td>32.381977510663</td>\n      <td>198</td>\n    </tr>\n    <tr>\n      <th>479</th>\n      <td>2020</td>\n      <td>38</td>\n      <td>198</td>\n    </tr>\n  </tbody>\n</table>\n<p>480 rows × 3 columns</p>\n</div>"
     },
     "metadata": {},
     "execution_count": 10
    }
   ],
   "source": [
    "#Read in data\n",
    "population_density = pd.read_csv('PopulationDensity.csv')\n",
    "\n",
    "population_density.rename(columns={'2003 Density (P/Km²)': '2003', '2009 Density (P/Km²)': '2009', '2020 Density (P/Km²)' : '2020'}, inplace=True)\n",
    "\n",
    "population_density.head()\n",
    "\n",
    "years = [2003, 2009, 2020]\n",
    "\n",
    "country_data = []\n",
    "year_data = []\n",
    "density_data = []\n",
    "\n",
    "\n",
    "for row in population_density['Country']:\n",
    "    country_data.append(row)\n",
    "    country_data.append(row)\n",
    "    country_data.append(row)\n",
    "\n",
    "\n",
    "for row in range(160):\n",
    "    year_data.append(years[0])\n",
    "    year_data.append(years[1])\n",
    "    year_data.append(years[2])\n",
    "\n",
    "\n",
    "population_density_year = population_density[['2003', '2009', '2020']]\n",
    "population_density_year = population_density_year.transpose()\n",
    "population_density_year.head()\n",
    "\n",
    "for column in population_density_year:\n",
    "    pop_density = population_density_year[column]\n",
    "    \n",
    "    density_data.append(pop_density[0])\n",
    "    density_data.append(pop_density[1])\n",
    "    density_data.append(pop_density[2])\n",
    "\n",
    "\n",
    "combined_dataframe = pd.DataFrame({'Country' : country_data, \"Year\" : year_data, \"Density\" : density_data})\n",
    "\n",
    "\n",
    "population_density_table = combined_dataframe.merge(countries_table, how='left', left_on='Country', right_on=\"Country\")\n",
    "population_density_table.drop('Country', axis=1, inplace=True)\n",
    "\n",
    "population_density_table\n"
   ]
  },
  {
   "cell_type": "code",
   "execution_count": 8,
   "metadata": {},
   "outputs": [],
   "source": [
    "#write each file into csv \n",
    "countries_table.to_csv(\"country_table.csv\")\n",
    "population_density_table.to_csv(\"pop_density_table.csv\")\n",
    "sars_country_code.to_csv(\"sars_final.csv\")\n",
    "h1n1_country_code.to_csv(\"h1n1_final.csv\")\n",
    "covid_country_code.to_csv(\"covid_final.csv\")"
   ]
  },
  {
   "cell_type": "code",
   "execution_count": null,
   "metadata": {},
   "outputs": [],
   "source": []
  }
 ],
 "metadata": {
  "language_info": {
   "codemirror_mode": {
    "name": "ipython",
    "version": 3
   },
   "file_extension": ".py",
   "mimetype": "text/x-python",
   "name": "python",
   "nbconvert_exporter": "python",
   "pygments_lexer": "ipython3",
   "version": "3.7.6-final"
  },
  "orig_nbformat": 2,
  "kernelspec": {
   "name": "python361064bitpythondataconda702a049063da4b8fb25107aa449393fc",
   "display_name": "Python 3.6.10 64-bit ('PythonData': conda)"
  }
 },
 "nbformat": 4,
 "nbformat_minor": 2
}