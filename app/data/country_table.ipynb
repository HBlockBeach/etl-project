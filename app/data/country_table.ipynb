{
 "cells": [
  {
   "cell_type": "code",
   "execution_count": 1,
   "metadata": {},
   "outputs": [],
   "source": [
    "#Import dependencies\n",
    "import pandas as pd\n"
   ]
  },
  {
   "cell_type": "code",
   "execution_count": 35,
   "metadata": {},
   "outputs": [],
   "source": [
    "#Read in data\n",
    "sars_data = pd.read_csv('sars_clean.csv')\n",
    "h1n1_data = pd.read_csv('h1n1_clean.csv')\n",
    "covid_data = pd.read_csv('../../cleancovids.csv')"
   ]
  },
  {
   "cell_type": "code",
   "execution_count": 84,
   "metadata": {},
   "outputs": [],
   "source": [
    "#pull country from each table\n",
    "\n",
    "sars_country = sars_data[['Country']]\n",
    "h1n1_country = h1n1_data[['Country']]\n",
    "covid_country = covid_data[['Country']]\n",
    "\n",
    "#append countries into list \n",
    "two_of_3 = sars_country.append(h1n1_country)\n",
    "combined_countries = two_of_3.append(covid_country)\n"
   ]
  },
  {
   "cell_type": "code",
   "execution_count": 99,
   "metadata": {
    "tags": [
     "outputPrepend",
     "outputPrepend"
    ]
   },
   "outputs": [],
   "source": [
    "#deduplicate data\n",
    "countries = []\n",
    "\n",
    "for row in combined_countries['Country']:\n",
    "    if row not in countries:\n",
    "        countries.append(row)\n",
    "\n",
    "\n",
    "new_countries = pd.DataFrame(countries)\n",
    "\n",
    "new_countries.to_csv('distinct_countries.csv')"
   ]
  },
  {
   "cell_type": "code",
   "execution_count": 70,
   "metadata": {},
   "outputs": [
    {
     "output_type": "execute_result",
     "data": {
      "text/plain": "                          Country_ID\nCountry                             \nAfghanistan                        0\nAlbania                            1\nAlgeria                            2\nAndorra                            3\nAngola                             4\n...                              ...\nWest Bank and Gaza Strip         202\nWestern Sahara                   203\nYemen                            204\nZambia                           205\nZimbabwe                         206\n\n[207 rows x 1 columns]",
      "text/html": "<div>\n<style scoped>\n    .dataframe tbody tr th:only-of-type {\n        vertical-align: middle;\n    }\n\n    .dataframe tbody tr th {\n        vertical-align: top;\n    }\n\n    .dataframe thead th {\n        text-align: right;\n    }\n</style>\n<table border=\"1\" class=\"dataframe\">\n  <thead>\n    <tr style=\"text-align: right;\">\n      <th></th>\n      <th>Country_ID</th>\n    </tr>\n    <tr>\n      <th>Country</th>\n      <th></th>\n    </tr>\n  </thead>\n  <tbody>\n    <tr>\n      <th>Afghanistan</th>\n      <td>0</td>\n    </tr>\n    <tr>\n      <th>Albania</th>\n      <td>1</td>\n    </tr>\n    <tr>\n      <th>Algeria</th>\n      <td>2</td>\n    </tr>\n    <tr>\n      <th>Andorra</th>\n      <td>3</td>\n    </tr>\n    <tr>\n      <th>Angola</th>\n      <td>4</td>\n    </tr>\n    <tr>\n      <th>...</th>\n      <td>...</td>\n    </tr>\n    <tr>\n      <th>West Bank and Gaza Strip</th>\n      <td>202</td>\n    </tr>\n    <tr>\n      <th>Western Sahara</th>\n      <td>203</td>\n    </tr>\n    <tr>\n      <th>Yemen</th>\n      <td>204</td>\n    </tr>\n    <tr>\n      <th>Zambia</th>\n      <td>205</td>\n    </tr>\n    <tr>\n      <th>Zimbabwe</th>\n      <td>206</td>\n    </tr>\n  </tbody>\n</table>\n<p>207 rows × 1 columns</p>\n</div>"
     },
     "metadata": {},
     "execution_count": 70
    }
   ],
   "source": [
    "#give each country a unique id\n",
    "\n",
    "distinct_countries[\"Country_ID\"] = distinct_countries.reset_index().index\n",
    "distinct_countries"
   ]
  },
  {
   "cell_type": "code",
   "execution_count": 79,
   "metadata": {},
   "outputs": [
    {
     "output_type": "execute_result",
     "data": {
      "text/plain": "     Week         Country  Cases  Deaths\n0       1          Canada     62      15\n1       1           China   1226      36\n2       1          France      1       0\n3       1         Germany     12       0\n4       1           Italy      5       0\n..    ...             ...    ...     ...\n392    15          Taiwan   1342     168\n393    15        Thailand     18       4\n394    15  United Kingdom      8       0\n395    15   United States    150       0\n396    15         Vietnam    126      10\n\n[397 rows x 4 columns]",
      "text/html": "<div>\n<style scoped>\n    .dataframe tbody tr th:only-of-type {\n        vertical-align: middle;\n    }\n\n    .dataframe tbody tr th {\n        vertical-align: top;\n    }\n\n    .dataframe thead th {\n        text-align: right;\n    }\n</style>\n<table border=\"1\" class=\"dataframe\">\n  <thead>\n    <tr style=\"text-align: right;\">\n      <th></th>\n      <th>Week</th>\n      <th>Country</th>\n      <th>Cases</th>\n      <th>Deaths</th>\n    </tr>\n  </thead>\n  <tbody>\n    <tr>\n      <th>0</th>\n      <td>1</td>\n      <td>Canada</td>\n      <td>62</td>\n      <td>15</td>\n    </tr>\n    <tr>\n      <th>1</th>\n      <td>1</td>\n      <td>China</td>\n      <td>1226</td>\n      <td>36</td>\n    </tr>\n    <tr>\n      <th>2</th>\n      <td>1</td>\n      <td>France</td>\n      <td>1</td>\n      <td>0</td>\n    </tr>\n    <tr>\n      <th>3</th>\n      <td>1</td>\n      <td>Germany</td>\n      <td>12</td>\n      <td>0</td>\n    </tr>\n    <tr>\n      <th>4</th>\n      <td>1</td>\n      <td>Italy</td>\n      <td>5</td>\n      <td>0</td>\n    </tr>\n    <tr>\n      <th>...</th>\n      <td>...</td>\n      <td>...</td>\n      <td>...</td>\n      <td>...</td>\n    </tr>\n    <tr>\n      <th>392</th>\n      <td>15</td>\n      <td>Taiwan</td>\n      <td>1342</td>\n      <td>168</td>\n    </tr>\n    <tr>\n      <th>393</th>\n      <td>15</td>\n      <td>Thailand</td>\n      <td>18</td>\n      <td>4</td>\n    </tr>\n    <tr>\n      <th>394</th>\n      <td>15</td>\n      <td>United Kingdom</td>\n      <td>8</td>\n      <td>0</td>\n    </tr>\n    <tr>\n      <th>395</th>\n      <td>15</td>\n      <td>United States</td>\n      <td>150</td>\n      <td>0</td>\n    </tr>\n    <tr>\n      <th>396</th>\n      <td>15</td>\n      <td>Vietnam</td>\n      <td>126</td>\n      <td>10</td>\n    </tr>\n  </tbody>\n</table>\n<p>397 rows × 4 columns</p>\n</div>"
     },
     "metadata": {},
     "execution_count": 79
    }
   ],
   "source": [
    "#join tables to give country id\n",
    "\n",
    "sars_data.merge(distinct_countries, how = 'left', left_on= 'Country' , right_on = 'Country')\n",
    "sars_data\n",
    "#h1n1_data.merge(distinct_countries, how = 'left', left_on= 'Country' , right_on = 'Country')\n",
    "#covid_data.merge(distinct_countries, how = 'left', left_on= 'Country' , right_on = 'Country')"
   ]
  },
  {
   "cell_type": "code",
   "execution_count": null,
   "metadata": {},
   "outputs": [],
   "source": []
  },
  {
   "cell_type": "code",
   "execution_count": null,
   "metadata": {},
   "outputs": [],
   "source": []
  }
 ],
 "metadata": {
  "language_info": {
   "codemirror_mode": {
    "name": "ipython",
    "version": 3
   },
   "file_extension": ".py",
   "mimetype": "text/x-python",
   "name": "python",
   "nbconvert_exporter": "python",
   "pygments_lexer": "ipython3",
   "version": "3.7.6-final"
  },
  "orig_nbformat": 2,
  "kernelspec": {
   "name": "python361064bitpythondataconda702a049063da4b8fb25107aa449393fc",
   "display_name": "Python 3.6.10 64-bit ('PythonData': conda)"
  }
 },
 "nbformat": 4,
 "nbformat_minor": 2
}