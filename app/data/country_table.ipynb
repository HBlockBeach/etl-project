{
 "cells": [
  {
   "cell_type": "code",
   "execution_count": 72,
   "metadata": {},
   "outputs": [],
   "source": [
    "#Import dependencies\n",
    "import pandas as pd\n"
   ]
  },
  {
   "cell_type": "code",
   "execution_count": 73,
   "metadata": {},
   "outputs": [],
   "source": [
    "#Read in data\n",
    "sars_data = pd.read_csv('sars_clean.csv')\n",
    "h1n1_data = pd.read_csv('h1n1_clean.csv')\n",
    "covid_data = pd.read_csv('cleancovids.csv')"
   ]
  },
  {
   "cell_type": "code",
   "execution_count": 86,
   "metadata": {},
   "outputs": [],
   "source": [
    "#pull country from each table\n",
    "\n",
    "sars_country = sars_data[['Country']]\n",
    "h1n1_country = h1n1_data[['Country']]\n",
    "covid_country = covid_data[['Country']]\n",
    "\n",
    "for row in covid_country:\n",
    "    if row == 'Taiwan*':\n",
    "        row = 'Taiwan'\n",
    "\n",
    "#append countries into list \n",
    "two_of_3 = sars_country.append(h1n1_country)\n",
    "combined_countries = two_of_3.append(covid_country)\n"
   ]
  },
  {
   "cell_type": "code",
   "execution_count": 92,
   "metadata": {
    "tags": [
     "outputPrepend",
     "outputPrepend"
    ]
   },
   "outputs": [],
   "source": [
    "#deduplicate data\n",
    "countries = []\n",
    "\n",
    "for row in combined_countries['Country']:\n",
    "    if row not in countries:\n",
    "        countries.append(row)\n",
    "\n",
    "#make list into df\n",
    "countries_table = pd.DataFrame({\"Country\" : countries})\n",
    "countries_table.to_csv(\"countries_clean_hopefully\")"
   ]
  },
  {
   "cell_type": "code",
   "execution_count": 88,
   "metadata": {},
   "outputs": [],
   "source": [
    "#give each country a unique id\n",
    "countries_table[\"Country_ID\"] = new_countries.reset_index().index"
   ]
  },
  {
   "cell_type": "code",
   "execution_count": 89,
   "metadata": {},
   "outputs": [],
   "source": [
    "#join tables to give country id\n",
    "\n",
    "sars_country_code = sars_data.merge(countries_table, how='left', left_on='Country', right_on=\"Country\")\n",
    "h1n1_country_code = h1n1_data.merge(countries_table, how='left', left_on='Country', right_on=\"Country\")\n",
    "covid_country_code = covid_data.merge(countries_table, how='left', left_on='Country', right_on=\"Country\")"
   ]
  },
  {
   "cell_type": "code",
   "execution_count": 90,
   "metadata": {},
   "outputs": [],
   "source": [
    "#drop country from dfs\n",
    "sars_country_code.drop('Country', axis=1, inplace=True)\n",
    "h1n1_country_code.drop('Country', axis=1, inplace=True)\n",
    "covid_country_code.drop('Country', axis=1, inplace=True) \n",
    "\n",
    "#add year\n",
    "sars_country_code[\"Year\"] = '2003'\n",
    "h1n1_country_code[\"Year\"] = '2009'\n",
    "covid_country_code[\"Year\"] = '2020'\n"
   ]
  },
  {
   "cell_type": "code",
   "execution_count": 91,
   "metadata": {},
   "outputs": [],
   "source": [
    "#write each file into csv \n",
    "\n",
    "sars_country_code.to_csv(\"sars_final.csv\")\n",
    "h1n1_country_code.to_csv(\"h1n1_final.csv\")\n",
    "covid_country_code.to_csv(\"covid_final.csv\")"
   ]
  },
  {
   "cell_type": "code",
   "execution_count": null,
   "metadata": {},
   "outputs": [],
   "source": []
  }
 ],
 "metadata": {
  "language_info": {
   "codemirror_mode": {
    "name": "ipython",
    "version": 3
   },
   "file_extension": ".py",
   "mimetype": "text/x-python",
   "name": "python",
   "nbconvert_exporter": "python",
   "pygments_lexer": "ipython3",
   "version": "3.7.6-final"
  },
  "orig_nbformat": 2,
  "kernelspec": {
   "name": "python361064bitpythondataconda702a049063da4b8fb25107aa449393fc",
   "display_name": "Python 3.6.10 64-bit ('PythonData': conda)"
  }
 },
 "nbformat": 4,
 "nbformat_minor": 2
}