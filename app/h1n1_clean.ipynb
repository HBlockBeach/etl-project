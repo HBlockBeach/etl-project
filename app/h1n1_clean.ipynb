{
 "cells": [
  {
   "cell_type": "code",
   "execution_count": 65,
   "metadata": {},
   "outputs": [],
   "source": [
    "#Import dependencies\n",
    "import pandas as pd"
   ]
  },
  {
   "cell_type": "code",
   "execution_count": 66,
   "metadata": {},
   "outputs": [
    {
     "output_type": "execute_result",
     "data": {
      "text/plain": "               Country  Cases  Deaths    Update Time\n0              Algeria      5     0.0  7/6/2009 9:00\n1  Antigua and Barbuda      2     0.0  7/6/2009 9:00\n2            Argentina   2485    60.0  7/6/2009 9:00\n3            Australia   5298    10.0  7/6/2009 9:00\n4              Austria     19     0.0  7/6/2009 9:00",
      "text/html": "<div>\n<style scoped>\n    .dataframe tbody tr th:only-of-type {\n        vertical-align: middle;\n    }\n\n    .dataframe tbody tr th {\n        vertical-align: top;\n    }\n\n    .dataframe thead th {\n        text-align: right;\n    }\n</style>\n<table border=\"1\" class=\"dataframe\">\n  <thead>\n    <tr style=\"text-align: right;\">\n      <th></th>\n      <th>Country</th>\n      <th>Cases</th>\n      <th>Deaths</th>\n      <th>Update Time</th>\n    </tr>\n  </thead>\n  <tbody>\n    <tr>\n      <th>0</th>\n      <td>Algeria</td>\n      <td>5</td>\n      <td>0.0</td>\n      <td>7/6/2009 9:00</td>\n    </tr>\n    <tr>\n      <th>1</th>\n      <td>Antigua and Barbuda</td>\n      <td>2</td>\n      <td>0.0</td>\n      <td>7/6/2009 9:00</td>\n    </tr>\n    <tr>\n      <th>2</th>\n      <td>Argentina</td>\n      <td>2485</td>\n      <td>60.0</td>\n      <td>7/6/2009 9:00</td>\n    </tr>\n    <tr>\n      <th>3</th>\n      <td>Australia</td>\n      <td>5298</td>\n      <td>10.0</td>\n      <td>7/6/2009 9:00</td>\n    </tr>\n    <tr>\n      <th>4</th>\n      <td>Austria</td>\n      <td>19</td>\n      <td>0.0</td>\n      <td>7/6/2009 9:00</td>\n    </tr>\n  </tbody>\n</table>\n</div>"
     },
     "metadata": {},
     "execution_count": 66
    }
   ],
   "source": [
    "#Read in h1n1 data\n",
    "swine_data = pd.read_csv('resources/h1n1.csv', encoding='latin_1')\n",
    "#Check data is read in\n",
    "swine_data.head()"
   ]
  },
  {
   "cell_type": "code",
   "execution_count": 67,
   "metadata": {},
   "outputs": [
    {
     "output_type": "execute_result",
     "data": {
      "text/plain": "               Country  Cases  Deaths    Update Time\n0              Algeria      5     0.0  7/6/2009 9:00\n1  Antigua and Barbuda      2     0.0  7/6/2009 9:00\n2            Argentina   2485    60.0  7/6/2009 9:00\n3            Australia   5298    10.0  7/6/2009 9:00\n4              Austria     19     0.0  7/6/2009 9:00",
      "text/html": "<div>\n<style scoped>\n    .dataframe tbody tr th:only-of-type {\n        vertical-align: middle;\n    }\n\n    .dataframe tbody tr th {\n        vertical-align: top;\n    }\n\n    .dataframe thead th {\n        text-align: right;\n    }\n</style>\n<table border=\"1\" class=\"dataframe\">\n  <thead>\n    <tr style=\"text-align: right;\">\n      <th></th>\n      <th>Country</th>\n      <th>Cases</th>\n      <th>Deaths</th>\n      <th>Update Time</th>\n    </tr>\n  </thead>\n  <tbody>\n    <tr>\n      <th>0</th>\n      <td>Algeria</td>\n      <td>5</td>\n      <td>0.0</td>\n      <td>7/6/2009 9:00</td>\n    </tr>\n    <tr>\n      <th>1</th>\n      <td>Antigua and Barbuda</td>\n      <td>2</td>\n      <td>0.0</td>\n      <td>7/6/2009 9:00</td>\n    </tr>\n    <tr>\n      <th>2</th>\n      <td>Argentina</td>\n      <td>2485</td>\n      <td>60.0</td>\n      <td>7/6/2009 9:00</td>\n    </tr>\n    <tr>\n      <th>3</th>\n      <td>Australia</td>\n      <td>5298</td>\n      <td>10.0</td>\n      <td>7/6/2009 9:00</td>\n    </tr>\n    <tr>\n      <th>4</th>\n      <td>Austria</td>\n      <td>19</td>\n      <td>0.0</td>\n      <td>7/6/2009 9:00</td>\n    </tr>\n  </tbody>\n</table>\n</div>"
     },
     "metadata": {},
     "execution_count": 67
    }
   ],
   "source": [
    "#Clean country names\n",
    "countries = swine_data.Country.to_list()\n",
    "#Remove problematic characters from the names & fix Vietnam\n",
    "country_clean = []\n",
    "for country in countries:\n",
    "    if country == \"Viet Nam\":\n",
    "        country = \"Vietnam\"\n",
    "    step1 = country.strip('\\xa0\\xa0\\xa0\\xa0\\xa0')\n",
    "    step2 = country.strip(' *')\n",
    "    step3 = country.strip('     ')\n",
    "    country_clean.append(step3)\n",
    "    \n",
    "#Replace Country column\n",
    "swine_data['Country'] = country_clean\n",
    "swine_data.head()"
   ]
  },
  {
   "cell_type": "code",
   "execution_count": 68,
   "metadata": {},
   "outputs": [
    {
     "output_type": "execute_result",
     "data": {
      "text/plain": "                       Country  Cases  Deaths     Update Time\n1816               Switzerland      2     0.0  5/23/2009 8:00\n1817                  Thailand      2     0.0  5/23/2009 8:00\n1818                    Turkey      2     0.0  5/23/2009 8:00\n1819            United Kingdom    117     0.0  5/23/2009 8:00\n1820  United States of America   6552     9.0  5/23/2009 8:00",
      "text/html": "<div>\n<style scoped>\n    .dataframe tbody tr th:only-of-type {\n        vertical-align: middle;\n    }\n\n    .dataframe tbody tr th {\n        vertical-align: top;\n    }\n\n    .dataframe thead th {\n        text-align: right;\n    }\n</style>\n<table border=\"1\" class=\"dataframe\">\n  <thead>\n    <tr style=\"text-align: right;\">\n      <th></th>\n      <th>Country</th>\n      <th>Cases</th>\n      <th>Deaths</th>\n      <th>Update Time</th>\n    </tr>\n  </thead>\n  <tbody>\n    <tr>\n      <th>1816</th>\n      <td>Switzerland</td>\n      <td>2</td>\n      <td>0.0</td>\n      <td>5/23/2009 8:00</td>\n    </tr>\n    <tr>\n      <th>1817</th>\n      <td>Thailand</td>\n      <td>2</td>\n      <td>0.0</td>\n      <td>5/23/2009 8:00</td>\n    </tr>\n    <tr>\n      <th>1818</th>\n      <td>Turkey</td>\n      <td>2</td>\n      <td>0.0</td>\n      <td>5/23/2009 8:00</td>\n    </tr>\n    <tr>\n      <th>1819</th>\n      <td>United Kingdom</td>\n      <td>117</td>\n      <td>0.0</td>\n      <td>5/23/2009 8:00</td>\n    </tr>\n    <tr>\n      <th>1820</th>\n      <td>United States of America</td>\n      <td>6552</td>\n      <td>9.0</td>\n      <td>5/23/2009 8:00</td>\n    </tr>\n  </tbody>\n</table>\n</div>"
     },
     "metadata": {},
     "execution_count": 68
    }
   ],
   "source": [
    "#Remove Grand Total\n",
    "swine_data.drop(1821,axis=0, inplace=True)\n",
    "swine_data.tail()"
   ]
  },
  {
   "cell_type": "code",
   "execution_count": 69,
   "metadata": {},
   "outputs": [
    {
     "output_type": "execute_result",
     "data": {
      "text/plain": "               Country  Cases  Deaths  Week\n0              Algeria      5     0.0     5\n1  Antigua and Barbuda      2     0.0     5\n2            Argentina   2485    60.0     5\n3            Australia   5298    10.0     5\n4              Austria     19     0.0     5",
      "text/html": "<div>\n<style scoped>\n    .dataframe tbody tr th:only-of-type {\n        vertical-align: middle;\n    }\n\n    .dataframe tbody tr th {\n        vertical-align: top;\n    }\n\n    .dataframe thead th {\n        text-align: right;\n    }\n</style>\n<table border=\"1\" class=\"dataframe\">\n  <thead>\n    <tr style=\"text-align: right;\">\n      <th></th>\n      <th>Country</th>\n      <th>Cases</th>\n      <th>Deaths</th>\n      <th>Week</th>\n    </tr>\n  </thead>\n  <tbody>\n    <tr>\n      <th>0</th>\n      <td>Algeria</td>\n      <td>5</td>\n      <td>0.0</td>\n      <td>5</td>\n    </tr>\n    <tr>\n      <th>1</th>\n      <td>Antigua and Barbuda</td>\n      <td>2</td>\n      <td>0.0</td>\n      <td>5</td>\n    </tr>\n    <tr>\n      <th>2</th>\n      <td>Argentina</td>\n      <td>2485</td>\n      <td>60.0</td>\n      <td>5</td>\n    </tr>\n    <tr>\n      <th>3</th>\n      <td>Australia</td>\n      <td>5298</td>\n      <td>10.0</td>\n      <td>5</td>\n    </tr>\n    <tr>\n      <th>4</th>\n      <td>Austria</td>\n      <td>19</td>\n      <td>0.0</td>\n      <td>5</td>\n    </tr>\n  </tbody>\n</table>\n</div>"
     },
     "metadata": {},
     "execution_count": 69
    }
   ],
   "source": [
    "#Set data to the week progression in pandemic\n",
    "#Assign dates to week in the pandemic\n",
    "times = swine_data['Update Time'].to_list()\n",
    "weeks = []\n",
    "for time in times:\n",
    "    #Week 1\n",
    "    if time == '5/23/2009 8:00' or time == '5/25/2009 8:00' or time == '5/26/2009 6:00' or time == '5/27/2009 8:00' or time == '5/29/2009 6:00':\n",
    "        weeks.append(1)\n",
    "    #Week 2\n",
    "    elif time == '6/8/2009 6:00' or time == '6/5/2009 6:00' or time == '6/3/2009 6:00' or time == '6/1/2009 6:00':\n",
    "        weeks.append(2)\n",
    "    #Week 3\n",
    "    elif time == '6/17/2009 12:00' or time == '6/15/2009 17:00' or time == '6/12/2009 7:00' or time == '6/11/2009 14:00' or time == '6/10/2009 6:00':\n",
    "        weeks.append(3)\n",
    "    #Week 4\n",
    "    elif time == '6/26/2009 7:00' or time == '6/24/2009 7:00' or time == '6/22/2009 7:00' or time == '6/19/2009 7:00':\n",
    "        weeks.append(4)\n",
    "    #Week 5\n",
    "    elif time == '7/6/2009 9:00' or time == '7/3/2009 9:00' or time == '7/1/2009 9:00' or time == '6/29/2009 9:00':\n",
    "        weeks.append(5)\n",
    "#Add week number to df\n",
    "swine_data['Week'] = weeks\n",
    "#Drop Update Time\n",
    "swine_data.drop('Update Time', axis=1, inplace=True)\n",
    "swine_data.head()"
   ]
  },
  {
   "cell_type": "code",
   "execution_count": 70,
   "metadata": {},
   "outputs": [
    {
     "output_type": "execute_result",
     "data": {
      "text/plain": "               Country  Cases  Deaths  Week\n0              Algeria      5     0.0     5\n1  Antigua and Barbuda      2     0.0     5\n2            Argentina   2485    60.0     5\n3            Australia   5298    10.0     5\n4              Austria     19     0.0     5",
      "text/html": "<div>\n<style scoped>\n    .dataframe tbody tr th:only-of-type {\n        vertical-align: middle;\n    }\n\n    .dataframe tbody tr th {\n        vertical-align: top;\n    }\n\n    .dataframe thead th {\n        text-align: right;\n    }\n</style>\n<table border=\"1\" class=\"dataframe\">\n  <thead>\n    <tr style=\"text-align: right;\">\n      <th></th>\n      <th>Country</th>\n      <th>Cases</th>\n      <th>Deaths</th>\n      <th>Week</th>\n    </tr>\n  </thead>\n  <tbody>\n    <tr>\n      <th>0</th>\n      <td>Algeria</td>\n      <td>5</td>\n      <td>0.0</td>\n      <td>5</td>\n    </tr>\n    <tr>\n      <th>1</th>\n      <td>Antigua and Barbuda</td>\n      <td>2</td>\n      <td>0.0</td>\n      <td>5</td>\n    </tr>\n    <tr>\n      <th>2</th>\n      <td>Argentina</td>\n      <td>2485</td>\n      <td>60.0</td>\n      <td>5</td>\n    </tr>\n    <tr>\n      <th>3</th>\n      <td>Australia</td>\n      <td>5298</td>\n      <td>10.0</td>\n      <td>5</td>\n    </tr>\n    <tr>\n      <th>4</th>\n      <td>Austria</td>\n      <td>19</td>\n      <td>0.0</td>\n      <td>5</td>\n    </tr>\n  </tbody>\n</table>\n</div>"
     },
     "metadata": {},
     "execution_count": 70
    }
   ],
   "source": [
    "#Assign data for Territory Countries to Overarching Country\n",
    "countries = swine_data.Country.to_list()\n",
    "countries_assigned = []\n",
    "for country in countries:\n",
    "    #Assign UKOTs & Crown Dependencies to UK\n",
    "    if 'UKOT' in country or 'Crown Dependency' in country:\n",
    "        country = 'United Kingdom'\n",
    "        countries_assigned.append(country)\n",
    "    #Assign FOCs to France\n",
    "    elif 'FOC' in country:\n",
    "        country = 'France'\n",
    "        countries_assigned.append(country)\n",
    "    #Assign Netherland's territories to Netherland\n",
    "    elif 'Netherlands' in country:\n",
    "        country = 'Netherlands'\n",
    "        countries_assigned.append(country)\n",
    "    #Assign Puerto Rico & US Virgin Islands to USA\n",
    "    elif country == 'Puerto Rico' or country == 'Virgin Islands':\n",
    "        country = 'United States'\n",
    "        countries_assigned.append(country)\n",
    "    #Fix Macedonia's name\n",
    "    elif country == 'The former Yugoslav Republic of Macedonia':\n",
    "        country = 'North Macedonia'\n",
    "        countries_assigned.append(country)\n",
    "    #Fix US name\n",
    "    elif country == 'United States of America':\n",
    "        country = 'United States'\n",
    "        countries_assigned.append(country)\n",
    "    #Set all Irans to Iran\n",
    "    elif country == 'Iran, Islamic Republic':\n",
    "        country = 'Iran'\n",
    "        countries_assigned.append(country)\n",
    "    #Fix North Korea name\n",
    "    elif country == 'Korea, Republic of':\n",
    "        country = 'Republic of Korea'\n",
    "        countries_assigned.append(country)\n",
    "    #If no fixing necessary append\n",
    "    else:\n",
    "        countries_assigned.append(country)\n",
    "#Reset Country column in df\n",
    "swine_data.Country = countries_assigned\n",
    "swine_data.head()"
   ]
  },
  {
   "cell_type": "code",
   "execution_count": 71,
   "metadata": {},
   "outputs": [
    {
     "output_type": "execute_result",
     "data": {
      "text/plain": "                Cases  Deaths\nWeek Country                 \n1    Argentina      5       5\n     Australia      5       5\n     Austria        5       5\n     Bahrain        2       2\n     Belgium        5       5",
      "text/html": "<div>\n<style scoped>\n    .dataframe tbody tr th:only-of-type {\n        vertical-align: middle;\n    }\n\n    .dataframe tbody tr th {\n        vertical-align: top;\n    }\n\n    .dataframe thead th {\n        text-align: right;\n    }\n</style>\n<table border=\"1\" class=\"dataframe\">\n  <thead>\n    <tr style=\"text-align: right;\">\n      <th></th>\n      <th></th>\n      <th>Cases</th>\n      <th>Deaths</th>\n    </tr>\n    <tr>\n      <th>Week</th>\n      <th>Country</th>\n      <th></th>\n      <th></th>\n    </tr>\n  </thead>\n  <tbody>\n    <tr>\n      <th rowspan=\"5\" valign=\"top\">1</th>\n      <th>Argentina</th>\n      <td>5</td>\n      <td>5</td>\n    </tr>\n    <tr>\n      <th>Australia</th>\n      <td>5</td>\n      <td>5</td>\n    </tr>\n    <tr>\n      <th>Austria</th>\n      <td>5</td>\n      <td>5</td>\n    </tr>\n    <tr>\n      <th>Bahrain</th>\n      <td>2</td>\n      <td>2</td>\n    </tr>\n    <tr>\n      <th>Belgium</th>\n      <td>5</td>\n      <td>5</td>\n    </tr>\n  </tbody>\n</table>\n</div>"
     },
     "metadata": {},
     "execution_count": 71
    }
   ],
   "source": [
    "#Group data by Week and Country\n",
    "swine_group = swine_data.groupby(['Week', 'Country'])\n",
    "swine_group.count().head()"
   ]
  },
  {
   "cell_type": "code",
   "execution_count": 72,
   "metadata": {},
   "outputs": [
    {
     "output_type": "execute_result",
     "data": {
      "text/plain": "                Total Cases  Total Deaths\nWeek Country                             \n1    Argentina           64           0.0\n     Australia          233           0.0\n     Austria              5           0.0\n     Bahrain              2           0.0\n     Belgium             36           0.0",
      "text/html": "<div>\n<style scoped>\n    .dataframe tbody tr th:only-of-type {\n        vertical-align: middle;\n    }\n\n    .dataframe tbody tr th {\n        vertical-align: top;\n    }\n\n    .dataframe thead th {\n        text-align: right;\n    }\n</style>\n<table border=\"1\" class=\"dataframe\">\n  <thead>\n    <tr style=\"text-align: right;\">\n      <th></th>\n      <th></th>\n      <th>Total Cases</th>\n      <th>Total Deaths</th>\n    </tr>\n    <tr>\n      <th>Week</th>\n      <th>Country</th>\n      <th></th>\n      <th></th>\n    </tr>\n  </thead>\n  <tbody>\n    <tr>\n      <th rowspan=\"5\" valign=\"top\">1</th>\n      <th>Argentina</th>\n      <td>64</td>\n      <td>0.0</td>\n    </tr>\n    <tr>\n      <th>Australia</th>\n      <td>233</td>\n      <td>0.0</td>\n    </tr>\n    <tr>\n      <th>Austria</th>\n      <td>5</td>\n      <td>0.0</td>\n    </tr>\n    <tr>\n      <th>Bahrain</th>\n      <td>2</td>\n      <td>0.0</td>\n    </tr>\n    <tr>\n      <th>Belgium</th>\n      <td>36</td>\n      <td>0.0</td>\n    </tr>\n  </tbody>\n</table>\n</div>"
     },
     "metadata": {},
     "execution_count": 72
    }
   ],
   "source": [
    "#Aggregate(Total) Cases and Deathe for each country by week into new df\n",
    "swine_clean = pd.DataFrame({'Total Cases':swine_group.Cases.sum(), 'Total Deaths':swine_group.Deaths.sum()})\n",
    "swine_clean.head()"
   ]
  },
  {
   "cell_type": "code",
   "execution_count": 73,
   "metadata": {},
   "outputs": [],
   "source": [
    "#Send clean data to new csv for storage and recall\n",
    "swine_clean.to_csv('data/h1n1_clean.csv')"
   ]
  },
  {
   "cell_type": "code",
   "execution_count": null,
   "metadata": {},
   "outputs": [],
   "source": []
  }
 ],
 "metadata": {
  "language_info": {
   "codemirror_mode": {
    "name": "ipython",
    "version": 3
   },
   "file_extension": ".py",
   "mimetype": "text/x-python",
   "name": "python",
   "nbconvert_exporter": "python",
   "pygments_lexer": "ipython3",
   "version": "3.7.6-final"
  },
  "orig_nbformat": 2,
  "kernelspec": {
   "name": "python37664bitpythondataconda9adbda39bd454e7faf6cd0d67b7317a9",
   "display_name": "Python 3.7.6 64-bit ('PythonData': conda)"
  }
 },
 "nbformat": 4,
 "nbformat_minor": 2
}