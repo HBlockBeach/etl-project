{
 "cells": [
  {
   "cell_type": "code",
   "execution_count": 46,
   "metadata": {},
   "outputs": [],
   "source": [
    "#Import dependencies\n",
    "import pandas as pd"
   ]
  },
  {
   "cell_type": "code",
   "execution_count": 47,
   "metadata": {},
   "outputs": [
    {
     "output_type": "execute_result",
     "data": {
      "text/plain": "               Country  Cases  Deaths    Update Time\n0              Algeria      5     0.0  7/6/2009 9:00\n1  Antigua and Barbuda      2     0.0  7/6/2009 9:00\n2            Argentina   2485    60.0  7/6/2009 9:00\n3            Australia   5298    10.0  7/6/2009 9:00\n4              Austria     19     0.0  7/6/2009 9:00",
      "text/html": "<div>\n<style scoped>\n    .dataframe tbody tr th:only-of-type {\n        vertical-align: middle;\n    }\n\n    .dataframe tbody tr th {\n        vertical-align: top;\n    }\n\n    .dataframe thead th {\n        text-align: right;\n    }\n</style>\n<table border=\"1\" class=\"dataframe\">\n  <thead>\n    <tr style=\"text-align: right;\">\n      <th></th>\n      <th>Country</th>\n      <th>Cases</th>\n      <th>Deaths</th>\n      <th>Update Time</th>\n    </tr>\n  </thead>\n  <tbody>\n    <tr>\n      <th>0</th>\n      <td>Algeria</td>\n      <td>5</td>\n      <td>0.0</td>\n      <td>7/6/2009 9:00</td>\n    </tr>\n    <tr>\n      <th>1</th>\n      <td>Antigua and Barbuda</td>\n      <td>2</td>\n      <td>0.0</td>\n      <td>7/6/2009 9:00</td>\n    </tr>\n    <tr>\n      <th>2</th>\n      <td>Argentina</td>\n      <td>2485</td>\n      <td>60.0</td>\n      <td>7/6/2009 9:00</td>\n    </tr>\n    <tr>\n      <th>3</th>\n      <td>Australia</td>\n      <td>5298</td>\n      <td>10.0</td>\n      <td>7/6/2009 9:00</td>\n    </tr>\n    <tr>\n      <th>4</th>\n      <td>Austria</td>\n      <td>19</td>\n      <td>0.0</td>\n      <td>7/6/2009 9:00</td>\n    </tr>\n  </tbody>\n</table>\n</div>"
     },
     "metadata": {},
     "execution_count": 47
    }
   ],
   "source": [
    "#Read in h1n1 data\n",
    "swine_data = pd.read_csv('resources/h1n1.csv', encoding='latin_1')\n",
    "#Check data is read in\n",
    "swine_data.head()"
   ]
  },
  {
   "cell_type": "code",
   "execution_count": 49,
   "metadata": {},
   "outputs": [
    {
     "output_type": "execute_result",
     "data": {
      "text/plain": "               Country  Cases  Deaths    Update Time\n0              Algeria      5     0.0  7/6/2009 9:00\n1  Antigua and Barbuda      2     0.0  7/6/2009 9:00\n2            Argentina   2485    60.0  7/6/2009 9:00\n3            Australia   5298    10.0  7/6/2009 9:00\n4              Austria     19     0.0  7/6/2009 9:00",
      "text/html": "<div>\n<style scoped>\n    .dataframe tbody tr th:only-of-type {\n        vertical-align: middle;\n    }\n\n    .dataframe tbody tr th {\n        vertical-align: top;\n    }\n\n    .dataframe thead th {\n        text-align: right;\n    }\n</style>\n<table border=\"1\" class=\"dataframe\">\n  <thead>\n    <tr style=\"text-align: right;\">\n      <th></th>\n      <th>Country</th>\n      <th>Cases</th>\n      <th>Deaths</th>\n      <th>Update Time</th>\n    </tr>\n  </thead>\n  <tbody>\n    <tr>\n      <th>0</th>\n      <td>Algeria</td>\n      <td>5</td>\n      <td>0.0</td>\n      <td>7/6/2009 9:00</td>\n    </tr>\n    <tr>\n      <th>1</th>\n      <td>Antigua and Barbuda</td>\n      <td>2</td>\n      <td>0.0</td>\n      <td>7/6/2009 9:00</td>\n    </tr>\n    <tr>\n      <th>2</th>\n      <td>Argentina</td>\n      <td>2485</td>\n      <td>60.0</td>\n      <td>7/6/2009 9:00</td>\n    </tr>\n    <tr>\n      <th>3</th>\n      <td>Australia</td>\n      <td>5298</td>\n      <td>10.0</td>\n      <td>7/6/2009 9:00</td>\n    </tr>\n    <tr>\n      <th>4</th>\n      <td>Austria</td>\n      <td>19</td>\n      <td>0.0</td>\n      <td>7/6/2009 9:00</td>\n    </tr>\n  </tbody>\n</table>\n</div>"
     },
     "metadata": {},
     "execution_count": 49
    }
   ],
   "source": [
    "#Clean country names\n",
    "countries = swine_data.Country.to_list()\n",
    "#Remove problematic characters from the names & fix Vietnam\n",
    "country_clean = []\n",
    "for country in countries:\n",
    "    if country == \"Viet Nam\":\n",
    "        country = \"Vietnam\"\n",
    "    country_clean.append(country.strip('\\xa0\\xa0\\xa0\\xa0\\xa0'))\n",
    "    \n",
    "#Replace Country column\n",
    "swine_data['Country'] = country_clean\n",
    "swine_data.head()"
   ]
  },
  {
   "cell_type": "code",
   "execution_count": 50,
   "metadata": {},
   "outputs": [
    {
     "output_type": "execute_result",
     "data": {
      "text/plain": "                       Country  Cases  Deaths     Update Time\n1816               Switzerland      2     0.0  5/23/2009 8:00\n1817                  Thailand      2     0.0  5/23/2009 8:00\n1818                    Turkey      2     0.0  5/23/2009 8:00\n1819            United Kingdom    117     0.0  5/23/2009 8:00\n1820  United States of America   6552     9.0  5/23/2009 8:00",
      "text/html": "<div>\n<style scoped>\n    .dataframe tbody tr th:only-of-type {\n        vertical-align: middle;\n    }\n\n    .dataframe tbody tr th {\n        vertical-align: top;\n    }\n\n    .dataframe thead th {\n        text-align: right;\n    }\n</style>\n<table border=\"1\" class=\"dataframe\">\n  <thead>\n    <tr style=\"text-align: right;\">\n      <th></th>\n      <th>Country</th>\n      <th>Cases</th>\n      <th>Deaths</th>\n      <th>Update Time</th>\n    </tr>\n  </thead>\n  <tbody>\n    <tr>\n      <th>1816</th>\n      <td>Switzerland</td>\n      <td>2</td>\n      <td>0.0</td>\n      <td>5/23/2009 8:00</td>\n    </tr>\n    <tr>\n      <th>1817</th>\n      <td>Thailand</td>\n      <td>2</td>\n      <td>0.0</td>\n      <td>5/23/2009 8:00</td>\n    </tr>\n    <tr>\n      <th>1818</th>\n      <td>Turkey</td>\n      <td>2</td>\n      <td>0.0</td>\n      <td>5/23/2009 8:00</td>\n    </tr>\n    <tr>\n      <th>1819</th>\n      <td>United Kingdom</td>\n      <td>117</td>\n      <td>0.0</td>\n      <td>5/23/2009 8:00</td>\n    </tr>\n    <tr>\n      <th>1820</th>\n      <td>United States of America</td>\n      <td>6552</td>\n      <td>9.0</td>\n      <td>5/23/2009 8:00</td>\n    </tr>\n  </tbody>\n</table>\n</div>"
     },
     "metadata": {},
     "execution_count": 50
    }
   ],
   "source": [
    "#Remove Grand Total\n",
    "swine_data.drop(1821,axis=0, inplace=True)\n",
    "swine_data.tail()"
   ]
  },
  {
   "cell_type": "code",
   "execution_count": 51,
   "metadata": {},
   "outputs": [
    {
     "output_type": "execute_result",
     "data": {
      "text/plain": "               Country  Cases  Deaths  Week\n0              Algeria      5     0.0     5\n1  Antigua and Barbuda      2     0.0     5\n2            Argentina   2485    60.0     5\n3            Australia   5298    10.0     5\n4              Austria     19     0.0     5",
      "text/html": "<div>\n<style scoped>\n    .dataframe tbody tr th:only-of-type {\n        vertical-align: middle;\n    }\n\n    .dataframe tbody tr th {\n        vertical-align: top;\n    }\n\n    .dataframe thead th {\n        text-align: right;\n    }\n</style>\n<table border=\"1\" class=\"dataframe\">\n  <thead>\n    <tr style=\"text-align: right;\">\n      <th></th>\n      <th>Country</th>\n      <th>Cases</th>\n      <th>Deaths</th>\n      <th>Week</th>\n    </tr>\n  </thead>\n  <tbody>\n    <tr>\n      <th>0</th>\n      <td>Algeria</td>\n      <td>5</td>\n      <td>0.0</td>\n      <td>5</td>\n    </tr>\n    <tr>\n      <th>1</th>\n      <td>Antigua and Barbuda</td>\n      <td>2</td>\n      <td>0.0</td>\n      <td>5</td>\n    </tr>\n    <tr>\n      <th>2</th>\n      <td>Argentina</td>\n      <td>2485</td>\n      <td>60.0</td>\n      <td>5</td>\n    </tr>\n    <tr>\n      <th>3</th>\n      <td>Australia</td>\n      <td>5298</td>\n      <td>10.0</td>\n      <td>5</td>\n    </tr>\n    <tr>\n      <th>4</th>\n      <td>Austria</td>\n      <td>19</td>\n      <td>0.0</td>\n      <td>5</td>\n    </tr>\n  </tbody>\n</table>\n</div>"
     },
     "metadata": {},
     "execution_count": 51
    }
   ],
   "source": [
    "#Set data to the week progression in pandemic\n",
    "#Assign dates to week in the pandemic\n",
    "times = swine_data['Update Time'].to_list()\n",
    "weeks = []\n",
    "for time in times:\n",
    "    if time == '5/23/2009 8:00' or time == '5/25/2009 8:00' or time == '5/26/2009 6:00' or time == '5/27/2009 8:00' or time == '5/29/2009 6:00':\n",
    "        weeks.append(1)\n",
    "    elif time == '6/8/2009 6:00' or time == '6/5/2009 6:00' or time == '6/3/2009 6:00' or time == '6/1/2009 6:00':\n",
    "        weeks.append(2)\n",
    "    elif time == '6/17/2009 12:00' or time == '6/15/2009 17:00' or time == '6/12/2009 7:00' or time == '6/11/2009 14:00' or time == '6/10/2009 6:00':\n",
    "        weeks.append(3)\n",
    "    elif time == '6/26/2009 7:00' or time == '6/24/2009 7:00' or time == '6/22/2009 7:00' or time == '6/19/2009 7:00':\n",
    "        weeks.append(4)\n",
    "    elif time == '7/6/2009 9:00' or time == '7/3/2009 9:00' or time == '7/1/2009 9:00' or time == '6/29/2009 9:00':\n",
    "        weeks.append(5)\n",
    "#Add week number to df\n",
    "swine_data['Week'] = weeks\n",
    "#Drop Update Time\n",
    "swine_data.drop('Update Time', axis=1, inplace=True)\n",
    "swine_data.head()"
   ]
  },
  {
   "cell_type": "code",
   "execution_count": 53,
   "metadata": {},
   "outputs": [
    {
     "output_type": "execute_result",
     "data": {
      "text/plain": "               Country  Cases  Deaths  Week\n0              Algeria      5     0.0     5\n1  Antigua and Barbuda      2     0.0     5\n2            Argentina   2485    60.0     5\n3            Australia   5298    10.0     5\n4              Austria     19     0.0     5",
      "text/html": "<div>\n<style scoped>\n    .dataframe tbody tr th:only-of-type {\n        vertical-align: middle;\n    }\n\n    .dataframe tbody tr th {\n        vertical-align: top;\n    }\n\n    .dataframe thead th {\n        text-align: right;\n    }\n</style>\n<table border=\"1\" class=\"dataframe\">\n  <thead>\n    <tr style=\"text-align: right;\">\n      <th></th>\n      <th>Country</th>\n      <th>Cases</th>\n      <th>Deaths</th>\n      <th>Week</th>\n    </tr>\n  </thead>\n  <tbody>\n    <tr>\n      <th>0</th>\n      <td>Algeria</td>\n      <td>5</td>\n      <td>0.0</td>\n      <td>5</td>\n    </tr>\n    <tr>\n      <th>1</th>\n      <td>Antigua and Barbuda</td>\n      <td>2</td>\n      <td>0.0</td>\n      <td>5</td>\n    </tr>\n    <tr>\n      <th>2</th>\n      <td>Argentina</td>\n      <td>2485</td>\n      <td>60.0</td>\n      <td>5</td>\n    </tr>\n    <tr>\n      <th>3</th>\n      <td>Australia</td>\n      <td>5298</td>\n      <td>10.0</td>\n      <td>5</td>\n    </tr>\n    <tr>\n      <th>4</th>\n      <td>Austria</td>\n      <td>19</td>\n      <td>0.0</td>\n      <td>5</td>\n    </tr>\n  </tbody>\n</table>\n</div>"
     },
     "metadata": {},
     "execution_count": 53
    }
   ],
   "source": [
    "#Assign data for Territory Countries to Overarching Country\n",
    "#Change UKOTs & Crown Dependencies to UK, FOCs to France, Netherlands Territories to Nehterlands, & US Territories to USA\n",
    "countries = swine_data.Country.to_list()\n",
    "countries_assigned = []\n",
    "for country in countries:\n",
    "    if 'UKOT' in country or 'Crown Dependency' in country:\n",
    "        country = 'United Kingdom'\n",
    "        countries_assigned.append(country)\n",
    "    elif 'FOC' in country:\n",
    "        country = 'France'\n",
    "        countries_assigned.append(country)\n",
    "    elif 'Netherlands' in country:\n",
    "        country = 'Netherlands'\n",
    "        countries_assigned.append(country)\n",
    "    elif country == 'Puerto Rico':\n",
    "        country = 'United States of America'\n",
    "        countries_assigned.append(country)\n",
    "    else:\n",
    "        countries_assigned.append(country)\n",
    "swine_data.Country = countries_assigned\n",
    "swine_data.head()"
   ]
  },
  {
   "cell_type": "code",
   "execution_count": 34,
   "metadata": {},
   "outputs": [
    {
     "output_type": "execute_result",
     "data": {
      "text/plain": "['Algeria',\n 'Antigua and Barbuda',\n 'Argentina',\n 'Australia',\n 'Austria',\n 'Bahamas',\n 'Bahrain',\n 'Bangladesh',\n 'Barbados',\n 'Belgium',\n 'Bermuda, UKOT',\n 'Bolivia',\n 'Bosnia and Hezegovina',\n 'Brazil',\n 'British Virgin Islands, UKOT',\n 'Brunei Darussalam',\n 'Bulgaria',\n 'Cambodia',\n 'Canada',\n 'Cap Verde',\n 'Cayman Islands, UKOT',\n 'Chile',\n 'China',\n 'Colombia',\n 'Cook Island',\n 'Costa Rica',\n \"Cote d'Ivoire\",\n 'Croatia',\n 'Cuba',\n 'Cyprus',\n 'Czech Republic',\n 'Denmark',\n 'Dominica',\n 'Dominican Republic',\n 'Ecuador',\n 'Egypt',\n 'El Salvador',\n 'Estonia',\n 'Ethiopia',\n 'Fiji',\n 'Finland',\n 'France',\n 'French Polynesia, FOC',\n 'Guadaloupe, FOC',\n 'Martinique, FOC',\n 'New Caledonia, FOC',\n 'Saint Martin, FOC',\n 'Germany',\n 'Greece',\n 'Guatemala',\n 'Guyana',\n 'Honduras',\n 'Hungary',\n 'Iceland',\n 'India',\n 'Indonesia',\n 'Iran, Islamic Republic',\n 'Iraq',\n 'Ireland',\n 'Israel',\n 'Italy',\n 'Jamaica',\n 'Japan',\n 'Jordan',\n 'Kenya',\n 'Korea, Republic of',\n 'Kuwait',\n 'Laos',\n 'Latvia',\n 'Lebanon',\n 'Libya',\n 'Lithuania',\n 'Luxembourg',\n 'Malaysia',\n 'Malta',\n 'Mauritius',\n 'Mexico',\n 'Montenegro',\n 'Morocco',\n 'Myanmar',\n 'Nepal',\n 'Netherlands',\n 'Netherlands, Aruba',\n 'Netherlands Antilles, Curaçao',\n 'Netherlands Antilles, Sint Maarten',\n 'New Zealand',\n 'Nicaragua',\n 'Norway',\n 'Oman',\n 'Palau',\n 'Panama',\n 'Papua New Guinea',\n 'Paraguay',\n 'Peru',\n 'Philippines',\n 'Poland',\n 'Portugal',\n 'Qatar',\n 'Romania',\n 'Russia',\n 'Saint Lucia',\n 'Samoa',\n 'Saudi Arabia',\n 'Serbia',\n 'Singapore',\n 'Slovakia',\n 'Slovenia',\n 'South Africa',\n 'Spain',\n 'Sri Lanka',\n 'Suriname',\n 'Sweden',\n 'Switzerland',\n 'Syria',\n 'Thailand',\n 'The former Yugoslav Republic of Macedonia',\n 'Trinidad and Tobago',\n 'Tunisia',\n 'Turkey',\n 'Uganda',\n 'Ukraine',\n 'United Arab Emirates',\n 'United Kingdom',\n 'Guernsey, Crown Dependency',\n 'Isle of Man, Crown Dependency',\n 'Jersey, Crown Dependency',\n 'United States of America',\n 'Puerto Rico',\n 'Virgin Islands',\n 'Uruguay',\n 'Vanuatu',\n 'Venezuela',\n 'Viet Nam',\n 'West Bank and Gaza Strip',\n 'Yemen',\n 'Grand Total',\n 'Algeria',\n 'Antigua and Barbuda',\n 'Argentina',\n 'Australia',\n 'Austria',\n 'Bahamas',\n 'Bahrain',\n 'Bangladesh',\n 'Barbados',\n 'Belgium',\n 'Bermuda, UKOT',\n 'Bolivia',\n 'Bosnia and Hezegovina',\n 'Brazil',\n 'British Virgin Islands, UKOT',\n 'Brunei Darussalam',\n 'Bulgaria',\n 'Cambodia',\n 'Canada',\n 'Cap Verde',\n 'Cayman Islands, UKOT',\n 'Chile',\n 'China',\n 'Colombia',\n 'Costa Rica*',\n \"Cote d'Ivoire\",\n 'Cuba',\n 'Cyprus',\n 'Czech Republic',\n 'Denmark',\n 'Dominica',\n 'Dominican Republic',\n 'Ecuador',\n 'Egypt',\n 'El Salvador',\n 'Estonia',\n 'Ethiopia',\n 'Fiji',\n 'Finland',\n 'France',\n 'French Polynesia, FOC',\n 'Martinique, FOC',\n 'France, New Caledonia, FOC',\n 'Germany',\n 'Greece',\n 'Guatemala',\n 'Honduras',\n 'Hungary',\n 'Iceland',\n 'India',\n 'Indonesia',\n 'Iran',\n 'Iraq',\n 'Ireland',\n 'Israel',\n 'Italy',\n 'Jamaica',\n 'Japan',\n 'Jordan',\n 'Kenya',\n 'Korea, Republic of',\n 'Kuwait',\n 'Laos',\n 'Latvia',\n 'Lebanon',\n 'Lithuania',\n 'Luxembourg',\n 'Malaysia',\n 'Malta',\n 'Mauritius',\n 'Mexico',\n 'Montenegro',\n 'Morocco',\n 'Myanmar',\n 'Nepal',\n 'Netherlands',\n 'Netherlands, Aruba',\n 'Netherlands Antilles, Curaçao',\n 'Netherlands Antilles, Sint Maarten',\n 'New Zealand',\n 'Nicaragua',\n 'Norway',\n 'Oman',\n 'Palau',\n 'Panama',\n 'Papua New Guinea',\n 'Paraguay',\n 'Peru',\n 'Philippines',\n 'Poland',\n 'Portugal',\n 'Qatar',\n 'Romania',\n 'Russia',\n 'Saint Lucia',\n 'Samoa',\n 'Saudi Arabia',\n 'Serbia',\n 'Singapore',\n 'Slovakia',\n 'Slovenia',\n 'South Africa',\n 'Spain',\n 'Sri Lanka',\n 'Suriname',\n 'Sweden',\n 'Switzerland',\n 'Thailand',\n 'Trinidad and Tobago',\n 'Tunisia',\n 'Turkey',\n 'Uganda',\n 'Ukraine',\n 'United Arab Emirates',\n 'United Kingdom',\n 'Guernsey, Crown Dependency',\n 'Isle of Man, Crown Dependency',\n 'Jersey, Crown Dependency',\n 'United States of America',\n 'Uruguay',\n 'Vanuatu',\n 'Venezuela',\n 'Viet Nam',\n 'West Bank and Gaza Strip',\n 'Yemen',\n 'Grand Total',\n 'Algeria',\n 'Antigua and Barbuda',\n 'Argentina',\n 'Australia',\n 'Austria',\n 'Bahamas',\n 'Bahrain',\n 'Bangladesh',\n 'Barbados',\n 'Belgium',\n 'Bermuda, UKOT',\n 'Bolivia',\n 'Brazil',\n 'British Virgin Islands, UKOT',\n 'Brunei Darussalam',\n 'Bulgaria',\n 'Cambodia',\n 'Canada',\n 'Cap Verde',\n 'Cayman Islands, UKOT',\n 'Chile',\n 'China',\n 'Colombia',\n 'Costa Rica',\n \"Cote d'Ivoire\",\n 'Cuba',\n 'Cyprus',\n 'Czech Republic',\n 'Denmark',\n 'Dominica',\n 'Dominican Republic',\n 'Ecuador',\n 'Egypt',\n 'El Salvador',\n 'Estonia',\n 'Ethiopia',\n 'Fiji',\n 'Finland',\n 'France',\n 'French Polynesia, FOC',\n 'Martinique, FOC',\n 'France, New Caledonia, FOC',\n 'Germany',\n 'Greece',\n 'Guatemala',\n 'Honduras',\n 'Hungary',\n 'Iceland',\n 'India',\n 'Indonesia',\n 'Iran',\n 'Iraq',\n 'Ireland',\n 'Israel',\n 'Italy',\n 'Jamaica',\n 'Japan',\n 'Jordan',\n 'Kenya',\n 'Korea, Republic of',\n 'Kuwait',\n 'Laos',\n 'Latvia',\n 'Lebanon',\n 'Lithuania',\n 'Luxembourg',\n 'Malaysia',\n 'Mauritius',\n 'Mexico',\n 'Montenegro',\n 'Morocco',\n 'Myanmar',\n 'Nepal',\n 'Netherlands',\n 'Netherlands Antilles, Curaçao',\n 'Netherlands Antilles, Sint Maarten',\n 'New Zealand',\n 'Nicaragua',\n 'Norway',\n 'Oman',\n 'Panama',\n 'Papua New Guinea',\n 'Paraguay',\n 'Peru',\n 'Philippines',\n 'Poland',\n 'Portugal',\n 'Qatar',\n 'Romania',\n 'Russia',\n 'Saint Lucia',\n 'Samoa',\n 'Saudi Arabia',\n 'Serbia',\n 'Singapore',\n 'Slovakia',\n 'Slovenia',\n 'South Africa',\n 'Spain',\n 'Sri Lanka',\n 'Suriname',\n 'Sweden',\n 'Switzerland',\n 'Thailand',\n 'Trinidad and Tobago',\n 'Tunisia',\n 'Turkey',\n 'Ukraine',\n 'United Arab Emirates',\n 'United Kingdom',\n 'Guernsey, Crown Dependency',\n 'Isle of Man, Crown Dependency',\n 'Jersey, Crown Dependency',\n 'United States of America',\n 'Uruguay',\n 'Vanuatu',\n 'Venezuela',\n 'Viet Nam',\n 'West Bank and Gaza Strip',\n 'Yemen',\n 'Grand Total',\n 'Algeria',\n 'Antigua and Barbuda',\n 'Argentina',\n 'Australia',\n 'Austria',\n 'Bahamas',\n 'Bahrain',\n 'Bangladesh',\n 'Barbados',\n 'Belgium',\n 'Bermuda, UKOT',\n 'Bolivia',\n 'Brazil',\n 'British Virgin Islands, UKOT',\n 'Brunei Darussalam',\n 'Bulgaria',\n 'Cambodia',\n 'Canada',\n 'Cap Verde',\n 'Cayman Islands, UKOT',\n 'Chile',\n 'China',\n 'Colombia',\n 'Costa Rica',\n \"Cote d'Ivoire\",\n 'Cuba',\n 'Cyprus',\n 'Czech Republic',\n 'Denmark',\n 'Dominica',\n 'Dominican Republic',\n 'Ecuador',\n 'Egypt',\n 'El Salvador',\n 'Estonia',\n 'Ethiopia',\n 'Fiji',\n 'Finland',\n 'France',\n 'French Polynesia, FOC',\n 'Martinique, FOC',\n 'Germany',\n 'Greece',\n 'Guatemala',\n 'Honduras',\n 'Hungary',\n 'Iceland',\n 'India',\n 'Indonesia',\n 'Iran',\n 'Iraq',\n 'Ireland',\n 'Israel',\n 'Italy',\n 'Jamaica',\n 'Japan',\n 'Jordan',\n 'Korea, Republic of',\n 'Kuwait',\n 'Laos',\n 'Latvia',\n 'Lebanon',\n 'Lithuania',\n 'Luxembourg',\n 'Malaysia',\n 'Mexico',\n 'Monaco',\n 'Montenegro',\n 'Morocco',\n 'Nepal',\n 'Netherlands',\n 'Netherlands Antilles, Curaçao *',\n 'Netherlands Antilles, Sint Maarten',\n 'New Zealand',\n 'Nicaragua',\n 'Norway',\n 'Oman',\n 'Panama',\n 'Papua New Guinea',\n 'Paraguay',\n 'Peru',\n 'Philippines',\n 'Poland',\n 'Portugal',\n 'Qatar',\n 'Romania',\n 'Russia',\n 'Samoa',\n 'Saudi Arabia',\n 'Serbia',\n 'Singapore',\n 'Slovakia',\n 'Slovenia',\n 'South Africa',\n 'Spain',\n 'Sri Lanka',\n 'Suriname',\n 'Sweden',\n 'Switzerland',\n 'Thailand',\n 'Trinidad and Tobago',\n 'Tunisia',\n 'Turkey',\n 'Ukraine',\n 'United Arab Emirates',\n 'United Kingdom',\n 'Guernsey, Crown Dependency',\n 'Isle of Man, Crown Dependency',\n 'Jersey, Crown Dependency',\n 'United States of America',\n 'Uruguay',\n 'Vanuatu',\n 'Venezuela',\n 'Viet Nam',\n 'West Bank and Gaza Strip',\n 'Yemen',\n 'Algeria',\n 'Antigua and Barbuda',\n 'Argentina',\n 'Australia',\n 'Austria',\n 'Bahamas',\n 'Bahrain',\n 'Bangladesh',\n 'Barbados',\n 'Belgium',\n 'Bermuda, UKOT',\n 'Bolivia',\n 'Brazil',\n 'British Virgin Islands, UKOT',\n 'Brunei Darussalam',\n 'Bulgaria',\n 'Cambodia',\n 'Canada',\n 'Cap Verde',\n 'Cayman Islands, UKOT',\n 'Chile',\n 'China',\n 'Colombia',\n 'Costa Rica',\n \"Cote d'Ivoire\",\n 'Cuba',\n 'Cyprus',\n 'Czech Republic',\n 'Denmark',\n 'Dominica',\n 'Dominican Republic',\n 'Ecuador',\n 'Egypt',\n 'El Salvador',\n 'Estonia',\n 'Ethiopia',\n 'Fiji',\n 'Finland',\n 'France',\n 'French Polynesia, FOC',\n 'Martinique, FOC',\n 'Germany',\n 'Greece',\n 'Guatemala',\n 'Honduras',\n 'Hungary',\n 'Iceland',\n 'India',\n 'Indonesia',\n 'Iran',\n 'Ireland',\n 'Israel',\n 'Italy',\n 'Jamaica',\n 'Japan',\n 'Jordan',\n 'Korea, Republic of',\n 'Kuwait',\n 'Laos',\n 'Latvia',\n 'Lebanon',\n 'Luxembourg',\n 'Malaysia',\n 'Mexico',\n 'Montenegro',\n 'Morocco',\n 'Netherlands',\n 'Netherlands Antilles, Curaçao *',\n 'Netherlands Antilles, Sint Maarten',\n 'New Zealand',\n 'Nicaragua',\n 'Norway',\n 'Oman',\n 'Panama',\n 'Papua New Guinea',\n 'Paraguay',\n 'Peru',\n 'Philippines',\n 'Poland',\n 'Portugal',\n 'Qatar',\n 'Romania',\n 'Russia',\n 'Samoa',\n 'Saudi Arabia',\n 'Serbia',\n 'Singapore',\n 'Slovakia',\n 'Slovenia',\n 'South Africa',\n 'Spain',\n 'Sri Lanka',\n 'Suriname',\n 'Sweden',\n 'Switzerland',\n 'Thailand',\n 'Trinidad and Tobago',\n 'Tunisia',\n 'Turkey',\n 'Ukraine',\n 'United Arab Emirates',\n 'United Kingdom',\n 'Guernsey, Crown Dependency',\n 'Isle of Man, Crown Dependency',\n 'Jersey, Crown Dependency',\n 'United States of America',\n 'Uruguay',\n 'Vanuatu',\n 'Venezuela',\n 'Viet Nam',\n 'West Bank and Gaza Strip',\n 'Yemen',\n 'Grand Total',\n 'Algeria',\n 'Antigua and Barbuda',\n 'Argentina',\n 'Australia',\n 'Austria',\n 'Bahamas',\n 'Bahrain',\n 'Bangladesh',\n 'Barbados',\n 'Belgium',\n 'Bermuda, UKOT',\n 'Bolivia',\n 'Brazil',\n 'British Virgin Islands, UKOT',\n 'Brunei Darussalam',\n 'Bulgaria',\n 'Cambodia',\n 'Canada',\n 'Cap Verde',\n 'Cayman Islands, UKOT',\n 'Chile',\n 'China',\n 'Colombia',\n 'Costa Rica',\n \"Cote d'Ivoire\",\n 'Cuba',\n 'Cyprus',\n 'Czech Republic',\n 'Denmark',\n 'Dominica',\n 'Dominican Republic',\n 'Ecuador',\n 'Egypt',\n 'El Salvador',\n 'Estonia',\n 'Ethiopia',\n 'Fiji',\n 'Finland',\n 'France',\n 'French Polynesia, FOC',\n 'Martinique, FOC',\n 'Germany',\n 'Greece',\n 'Guatemala',\n 'Honduras',\n 'Hungary',\n 'Iceland',\n 'India',\n 'Ireland',\n 'Israel',\n 'Italy',\n 'Jamaica',\n 'Japan',\n 'Jordan',\n 'Korea, Republic of',\n 'Kuwait',\n 'Laos',\n 'Latvia',\n 'Lebanon',\n 'Luxembourg',\n 'Malaysia',\n 'Mexico',\n 'Montenegro',\n 'Morocco',\n 'Netherlands',\n 'Netherlands Antilles, Curaçao *',\n 'Netherlands Antilles, Sint Maarten',\n 'New Zealand',\n 'Nicaragua',\n 'Norway',\n 'Oman',\n 'Panama',\n 'Papua New Guinea',\n 'Paraguay',\n 'Peru',\n 'Philippines',\n 'Poland',\n 'Portugal',\n 'Qatar',\n 'Romania',\n 'Russia',\n 'Samoa',\n 'Saudi Arabia',\n 'Singapore',\n 'Slovakia',\n 'Slovenia',\n 'South Africa',\n 'Spain',\n 'Sri Lanka',\n 'Suriname',\n 'Sweden',\n 'Switzerland',\n 'Thailand',\n 'Trinidad and Tobago',\n 'Tunisia',\n 'Turkey',\n 'Ukraine',\n 'United Arab Emirates',\n 'United Kingdom',\n 'Isle of Man, Crown Dependency',\n 'Jersey, Crown Dependency',\n 'United States of America',\n 'Uruguay',\n 'Vanuatu',\n 'Venezuela',\n 'Viet Nam',\n 'West Bank and Gaza Strip',\n 'Yemen',\n 'Grand Total',\n 'Algeria',\n 'Argentina',\n 'Australia',\n 'Austria',\n 'Bahamas',\n 'Bahrain',\n 'Bangladesh',\n 'Barbados',\n 'Belgium',\n 'Bermuda, UKOT',\n 'Bolivia',\n 'Brazil',\n 'British Virgin Islands, UKOT',\n 'Brunei Darussalam',\n 'Bulgaria',\n 'Canada',\n 'Cayman Islands, UKOT',\n 'Chile',\n 'China',\n 'Colombia',\n 'Costa Rica',\n 'Cuba',\n 'Cyprus',\n 'Czech Republic',\n 'Denmark',\n 'Dominica',\n 'Dominican Republic',\n 'Ecuador',\n 'Egypt',\n 'El Salvador',\n 'Estonia',\n 'Fiji',\n 'Finland',\n 'France',\n 'French Polynesia, FOC',\n 'Martinique, FOC',\n 'Germany',\n 'Greece',\n 'Guatemala',\n 'Honduras',\n 'Hungary',\n 'Iceland',\n 'India',\n 'Ireland',\n 'Israel',\n 'Italy',\n 'Jamaica',\n 'Japan',\n 'Jordan',\n 'Korea, Republic of',\n 'Kuwait',\n 'Laos',\n 'Lebanon',\n 'Luxembourg',\n 'Malaysia',\n 'Mexico',\n 'Morocco *',\n 'Netherlands',\n 'Netherlands Antilles, Curaçao **',\n 'Netherlands Antilles, Sint Maarten',\n 'New Zealand',\n 'Nicaragua',\n 'Norway',\n 'Oman',\n 'Panama',\n 'Papua New Guinea',\n 'Paraguay',\n 'Peru',\n 'Philippines',\n 'Poland',\n 'Portugal',\n 'Qatar',\n 'Romania',\n 'Russia',\n 'Samoa',\n 'Saudi Arabia',\n 'Singapore',\n 'Slovakia',\n 'Slovenia',\n 'South Africa',\n 'Spain',\n 'Sri Lanka',\n 'Suriname',\n 'Sweden',\n 'Switzerland',\n 'Thailand',\n 'Trinidad and Tobago',\n 'Turkey',\n 'Ukraine',\n 'United Arab Emirates',\n 'United Kingdom',\n 'Isle of Man, Crown Dependency',\n 'Jersey, Crown Dependency',\n 'United States of America',\n 'Uruguay',\n 'Venezuela',\n 'Viet Nam',\n 'West Bank and Gaza Strip',\n 'Yemen',\n 'Grand Total',\n 'Argentina',\n 'Australia',\n 'Austria',\n 'Bahamas',\n 'Bahrain',\n 'Barbados',\n 'Belgium',\n 'Bermuda, UKOT',\n 'Bolivia',\n 'Brazil',\n 'British Virgin Islands, UKOT',\n 'Bulgaria',\n 'Canada',\n 'Cayman Islands, UKOT',\n 'Chile',\n 'China',\n 'Colombia',\n 'Costa Rica',\n 'Cuba',\n 'Cyprus',\n 'Czech Republic',\n 'Denmark',\n 'Dominica',\n 'Dominican Republic',\n 'Ecuador',\n 'Egypt',\n 'El Salvador',\n 'Estonia',\n 'Finland',\n 'France',\n 'French Polynesia, FOC',\n 'Martinique, FOC',\n 'Germany',\n 'Greece',\n 'Guatemala',\n 'Honduras',\n 'Hungary',\n 'Iceland',\n 'India',\n 'Ireland',\n 'Israel',\n 'Italy',\n 'Jamaica',\n 'Japan',\n 'Jordan',\n 'Korea, Republic of',\n 'Kuwait',\n 'Laos',\n 'Lebanon',\n 'Luxembourg',\n 'Malaysia',\n 'Mexico',\n 'Morocco',\n 'Netherlands',\n 'Netherlands Antilles, Curaçao *',\n 'Netherlands Antilles, Sint Maarten',\n 'New Zealand',\n 'Nicaragua',\n 'Norway',\n 'Oman',\n 'Panama',\n 'Papua New Guinea',\n 'Paraguay',\n 'Peru',\n 'Philippines',\n 'Poland',\n 'Portugal',\n 'Qatar',\n 'Romania',\n 'Russia',\n 'Samoa',\n 'Saudi Arabia',\n 'Singapore',\n 'Slovakia',\n 'South Africa',\n 'Spain',\n 'Sri Lanka',\n 'Suriname',\n 'Sweden',\n 'Switzerland',\n 'Thailand',\n 'Trinidad and Tobago',\n 'Turkey',\n 'Ukraine',\n 'United Arab Emirates',\n 'United Kingdom',\n 'Isle of Man, Crown Dependency',\n 'Jersey, Crown Dependency',\n 'United States of America',\n 'Uruguay',\n 'Venezuela',\n 'Viet Nam',\n 'West Bank and Gaza Strip',\n 'Yemen',\n 'Grand Total',\n 'Argentina',\n 'Australia',\n 'Austria',\n 'Bahamas',\n 'Bahrain',\n 'Barbados',\n 'Belgium',\n 'Bermuda, UKOT',\n 'Bolivia',\n 'Brazil',\n 'British Virgin Islands, UKOT',\n 'Bulgaria',\n 'Canada',\n 'Cayman Islands, UKOT',\n 'Chile',\n 'China',\n 'Colombia',\n 'Costa Rica',\n 'Cuba',\n 'Cyprus',\n 'Czech Republic',\n 'Denmark',\n 'Dominica',\n 'Dominican Republic',\n 'Ecuador',\n 'Egypt',\n 'El Salvador',\n 'Estonia',\n 'Finland',\n 'France',\n 'France, French Polynesia, FOC',\n 'France, Martinique, FOC',\n 'Germany',\n 'Greece',\n 'Guatemala',\n 'Honduras',\n 'Hungary',\n 'Iceland',\n 'India',\n 'Ireland',\n 'Israel',\n 'Italy',\n 'Jamaica',\n 'Japan',\n 'Jordan',\n 'Korea, Republic of',\n 'Kuwait',\n 'Lebanon',\n 'Luxembourg',\n 'Malaysia',\n 'Mexico',\n 'Morocco',\n 'Netherlands',\n 'Netherlands, Curacao, OT',\n 'New Zealand',\n 'Nicaragua',\n 'Norway',\n 'Panama',\n 'Paraguay',\n 'Peru',\n 'Philippines',\n 'Poland',\n 'Portugal',\n 'Qatar',\n 'Romania',\n 'Russia',\n 'Samoa',\n 'Saudi Arabia',\n 'Singapore',\n 'Slovakia',\n 'Spain',\n 'Sri Lanka',\n 'Sweden',\n 'Switzerland',\n 'Thailand',\n 'Trinidad and Tobago',\n 'Turkey',\n 'Ukraine',\n 'United Arab Emirates',\n 'United Kingdom',\n 'United Kingdom, Isle of Man, Crown Dependency',\n 'United Kingdom, Jersey, Crown Dependency',\n 'United States of America*',\n 'Uruguay',\n ...]"
     },
     "metadata": {},
     "execution_count": 34
    }
   ],
   "source": []
  },
  {
   "cell_type": "code",
   "execution_count": null,
   "metadata": {},
   "outputs": [],
   "source": []
  }
 ],
 "metadata": {
  "language_info": {
   "codemirror_mode": {
    "name": "ipython",
    "version": 3
   },
   "file_extension": ".py",
   "mimetype": "text/x-python",
   "name": "python",
   "nbconvert_exporter": "python",
   "pygments_lexer": "ipython3",
   "version": "3.7.6-final"
  },
  "orig_nbformat": 2,
  "kernelspec": {
   "name": "python37664bitpythondataconda9adbda39bd454e7faf6cd0d67b7317a9",
   "display_name": "Python 3.7.6 64-bit ('PythonData': conda)"
  }
 },
 "nbformat": 4,
 "nbformat_minor": 2
}