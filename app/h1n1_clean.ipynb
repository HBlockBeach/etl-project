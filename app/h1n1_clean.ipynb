{
 "cells": [
  {
   "cell_type": "code",
   "execution_count": 1,
   "metadata": {},
   "outputs": [],
   "source": [
    "#Import dependencies\n",
    "import pandas as pd"
   ]
  },
  {
   "cell_type": "code",
   "execution_count": 4,
   "metadata": {},
   "outputs": [
    {
     "output_type": "execute_result",
     "data": {
      "text/plain": "               Country  Cases  Deaths    Update Time\n0              Algeria      5     0.0  7/6/2009 9:00\n1  Antigua and Barbuda      2     0.0  7/6/2009 9:00\n2            Argentina   2485    60.0  7/6/2009 9:00\n3            Australia   5298    10.0  7/6/2009 9:00\n4              Austria     19     0.0  7/6/2009 9:00",
      "text/html": "<div>\n<style scoped>\n    .dataframe tbody tr th:only-of-type {\n        vertical-align: middle;\n    }\n\n    .dataframe tbody tr th {\n        vertical-align: top;\n    }\n\n    .dataframe thead th {\n        text-align: right;\n    }\n</style>\n<table border=\"1\" class=\"dataframe\">\n  <thead>\n    <tr style=\"text-align: right;\">\n      <th></th>\n      <th>Country</th>\n      <th>Cases</th>\n      <th>Deaths</th>\n      <th>Update Time</th>\n    </tr>\n  </thead>\n  <tbody>\n    <tr>\n      <th>0</th>\n      <td>Algeria</td>\n      <td>5</td>\n      <td>0.0</td>\n      <td>7/6/2009 9:00</td>\n    </tr>\n    <tr>\n      <th>1</th>\n      <td>Antigua and Barbuda</td>\n      <td>2</td>\n      <td>0.0</td>\n      <td>7/6/2009 9:00</td>\n    </tr>\n    <tr>\n      <th>2</th>\n      <td>Argentina</td>\n      <td>2485</td>\n      <td>60.0</td>\n      <td>7/6/2009 9:00</td>\n    </tr>\n    <tr>\n      <th>3</th>\n      <td>Australia</td>\n      <td>5298</td>\n      <td>10.0</td>\n      <td>7/6/2009 9:00</td>\n    </tr>\n    <tr>\n      <th>4</th>\n      <td>Austria</td>\n      <td>19</td>\n      <td>0.0</td>\n      <td>7/6/2009 9:00</td>\n    </tr>\n  </tbody>\n</table>\n</div>"
     },
     "metadata": {},
     "execution_count": 4
    }
   ],
   "source": [
    "#Read in h1n1 data\n",
    "swine_data = pd.read_csv('resources/h1n1.csv', encoding='latin_1')\n",
    "#Check data is read in\n",
    "swine_data.head()"
   ]
  },
  {
   "cell_type": "code",
   "execution_count": null,
   "metadata": {},
   "outputs": [],
   "source": []
  }
 ],
 "metadata": {
  "language_info": {
   "codemirror_mode": {
    "name": "ipython",
    "version": 3
   },
   "file_extension": ".py",
   "mimetype": "text/x-python",
   "name": "python",
   "nbconvert_exporter": "python",
   "pygments_lexer": "ipython3",
   "version": "3.7.6-final"
  },
  "orig_nbformat": 2,
  "kernelspec": {
   "name": "python37664bitpythondataconda9adbda39bd454e7faf6cd0d67b7317a9",
   "display_name": "Python 3.7.6 64-bit ('PythonData': conda)"
  }
 },
 "nbformat": 4,
 "nbformat_minor": 2
}