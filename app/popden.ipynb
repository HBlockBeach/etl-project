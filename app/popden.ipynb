{
 "cells": [
  {
   "cell_type": "code",
   "execution_count": 1,
   "metadata": {},
   "outputs": [],
   "source": [
    "#import dependencies\n",
    "import pandas as pd"
   ]
  },
  {
   "cell_type": "code",
   "execution_count": 2,
   "metadata": {},
   "outputs": [
    {
     "output_type": "execute_result",
     "data": {
      "text/plain": "                                         Series Name  Series Code  \\\n0  Population density (people per sq. km of land ...  EN.POP.DNST   \n1  Population density (people per sq. km of land ...  EN.POP.DNST   \n2  Population density (people per sq. km of land ...  EN.POP.DNST   \n3  Population density (people per sq. km of land ...  EN.POP.DNST   \n4  Population density (people per sq. km of land ...  EN.POP.DNST   \n\n     Country Name Country Code     2003 [YR2003]     2009 [YR2009]  \\\n0     Afghanistan          AFG   36.272510185951  43.4929586741415   \n1         Albania          ALB  110.934890510949  106.843759124088   \n2         Algeria          DZA  13.5464647694543  14.8353224953185   \n3  American Samoa          ASM            297.52           283.415   \n4         Andorra          AND  155.706382978723  179.708510638298   \n\n      2018 [YR2018]  \n0   56.937760009803  \n1  104.612262773723  \n2  17.7300750711665  \n3           277.325  \n4  163.842553191489  ",
      "text/html": "<div>\n<style scoped>\n    .dataframe tbody tr th:only-of-type {\n        vertical-align: middle;\n    }\n\n    .dataframe tbody tr th {\n        vertical-align: top;\n    }\n\n    .dataframe thead th {\n        text-align: right;\n    }\n</style>\n<table border=\"1\" class=\"dataframe\">\n  <thead>\n    <tr style=\"text-align: right;\">\n      <th></th>\n      <th>Series Name</th>\n      <th>Series Code</th>\n      <th>Country Name</th>\n      <th>Country Code</th>\n      <th>2003 [YR2003]</th>\n      <th>2009 [YR2009]</th>\n      <th>2018 [YR2018]</th>\n    </tr>\n  </thead>\n  <tbody>\n    <tr>\n      <th>0</th>\n      <td>Population density (people per sq. km of land ...</td>\n      <td>EN.POP.DNST</td>\n      <td>Afghanistan</td>\n      <td>AFG</td>\n      <td>36.272510185951</td>\n      <td>43.4929586741415</td>\n      <td>56.937760009803</td>\n    </tr>\n    <tr>\n      <th>1</th>\n      <td>Population density (people per sq. km of land ...</td>\n      <td>EN.POP.DNST</td>\n      <td>Albania</td>\n      <td>ALB</td>\n      <td>110.934890510949</td>\n      <td>106.843759124088</td>\n      <td>104.612262773723</td>\n    </tr>\n    <tr>\n      <th>2</th>\n      <td>Population density (people per sq. km of land ...</td>\n      <td>EN.POP.DNST</td>\n      <td>Algeria</td>\n      <td>DZA</td>\n      <td>13.5464647694543</td>\n      <td>14.8353224953185</td>\n      <td>17.7300750711665</td>\n    </tr>\n    <tr>\n      <th>3</th>\n      <td>Population density (people per sq. km of land ...</td>\n      <td>EN.POP.DNST</td>\n      <td>American Samoa</td>\n      <td>ASM</td>\n      <td>297.52</td>\n      <td>283.415</td>\n      <td>277.325</td>\n    </tr>\n    <tr>\n      <th>4</th>\n      <td>Population density (people per sq. km of land ...</td>\n      <td>EN.POP.DNST</td>\n      <td>Andorra</td>\n      <td>AND</td>\n      <td>155.706382978723</td>\n      <td>179.708510638298</td>\n      <td>163.842553191489</td>\n    </tr>\n  </tbody>\n</table>\n</div>"
     },
     "metadata": {},
     "execution_count": 2
    }
   ],
   "source": [
    "#Read in csv data ('03, '09, '18)\n",
    "pop_data = pd.read_csv('resources/popdensity.csv')\n",
    "pop_data.head()"
   ]
  },
  {
   "cell_type": "code",
   "execution_count": 4,
   "metadata": {},
   "outputs": [
    {
     "output_type": "execute_result",
     "data": {
      "text/plain": "     Country Name Country Code     2003 [YR2003]     2009 [YR2009]  \\\n0     Afghanistan          AFG   36.272510185951  43.4929586741415   \n1         Albania          ALB  110.934890510949  106.843759124088   \n2         Algeria          DZA  13.5464647694543  14.8353224953185   \n3  American Samoa          ASM            297.52           283.415   \n4         Andorra          AND  155.706382978723  179.708510638298   \n\n      2018 [YR2018]  \n0   56.937760009803  \n1  104.612262773723  \n2  17.7300750711665  \n3           277.325  \n4  163.842553191489  ",
      "text/html": "<div>\n<style scoped>\n    .dataframe tbody tr th:only-of-type {\n        vertical-align: middle;\n    }\n\n    .dataframe tbody tr th {\n        vertical-align: top;\n    }\n\n    .dataframe thead th {\n        text-align: right;\n    }\n</style>\n<table border=\"1\" class=\"dataframe\">\n  <thead>\n    <tr style=\"text-align: right;\">\n      <th></th>\n      <th>Country Name</th>\n      <th>Country Code</th>\n      <th>2003 [YR2003]</th>\n      <th>2009 [YR2009]</th>\n      <th>2018 [YR2018]</th>\n    </tr>\n  </thead>\n  <tbody>\n    <tr>\n      <th>0</th>\n      <td>Afghanistan</td>\n      <td>AFG</td>\n      <td>36.272510185951</td>\n      <td>43.4929586741415</td>\n      <td>56.937760009803</td>\n    </tr>\n    <tr>\n      <th>1</th>\n      <td>Albania</td>\n      <td>ALB</td>\n      <td>110.934890510949</td>\n      <td>106.843759124088</td>\n      <td>104.612262773723</td>\n    </tr>\n    <tr>\n      <th>2</th>\n      <td>Algeria</td>\n      <td>DZA</td>\n      <td>13.5464647694543</td>\n      <td>14.8353224953185</td>\n      <td>17.7300750711665</td>\n    </tr>\n    <tr>\n      <th>3</th>\n      <td>American Samoa</td>\n      <td>ASM</td>\n      <td>297.52</td>\n      <td>283.415</td>\n      <td>277.325</td>\n    </tr>\n    <tr>\n      <th>4</th>\n      <td>Andorra</td>\n      <td>AND</td>\n      <td>155.706382978723</td>\n      <td>179.708510638298</td>\n      <td>163.842553191489</td>\n    </tr>\n  </tbody>\n</table>\n</div>"
     },
     "metadata": {},
     "execution_count": 4
    }
   ],
   "source": [
    "#Drop extraneous columns\n",
    "pop_data.drop(['Series Name', 'Series Code'], axis=1, inplace=True)\n",
    "pop_data.head()"
   ]
  },
  {
   "cell_type": "code",
   "execution_count": 5,
   "metadata": {},
   "outputs": [
    {
     "output_type": "execute_result",
     "data": {
      "text/plain": "     Country Name Country Code              2003              2009  \\\n0     Afghanistan          AFG   36.272510185951  43.4929586741415   \n1         Albania          ALB  110.934890510949  106.843759124088   \n2         Algeria          DZA  13.5464647694543  14.8353224953185   \n3  American Samoa          ASM            297.52           283.415   \n4         Andorra          AND  155.706382978723  179.708510638298   \n\n               2018  \n0   56.937760009803  \n1  104.612262773723  \n2  17.7300750711665  \n3           277.325  \n4  163.842553191489  ",
      "text/html": "<div>\n<style scoped>\n    .dataframe tbody tr th:only-of-type {\n        vertical-align: middle;\n    }\n\n    .dataframe tbody tr th {\n        vertical-align: top;\n    }\n\n    .dataframe thead th {\n        text-align: right;\n    }\n</style>\n<table border=\"1\" class=\"dataframe\">\n  <thead>\n    <tr style=\"text-align: right;\">\n      <th></th>\n      <th>Country Name</th>\n      <th>Country Code</th>\n      <th>2003</th>\n      <th>2009</th>\n      <th>2018</th>\n    </tr>\n  </thead>\n  <tbody>\n    <tr>\n      <th>0</th>\n      <td>Afghanistan</td>\n      <td>AFG</td>\n      <td>36.272510185951</td>\n      <td>43.4929586741415</td>\n      <td>56.937760009803</td>\n    </tr>\n    <tr>\n      <th>1</th>\n      <td>Albania</td>\n      <td>ALB</td>\n      <td>110.934890510949</td>\n      <td>106.843759124088</td>\n      <td>104.612262773723</td>\n    </tr>\n    <tr>\n      <th>2</th>\n      <td>Algeria</td>\n      <td>DZA</td>\n      <td>13.5464647694543</td>\n      <td>14.8353224953185</td>\n      <td>17.7300750711665</td>\n    </tr>\n    <tr>\n      <th>3</th>\n      <td>American Samoa</td>\n      <td>ASM</td>\n      <td>297.52</td>\n      <td>283.415</td>\n      <td>277.325</td>\n    </tr>\n    <tr>\n      <th>4</th>\n      <td>Andorra</td>\n      <td>AND</td>\n      <td>155.706382978723</td>\n      <td>179.708510638298</td>\n      <td>163.842553191489</td>\n    </tr>\n  </tbody>\n</table>\n</div>"
     },
     "metadata": {},
     "execution_count": 5
    }
   ],
   "source": [
    "#Rename year columns for easier reading\n",
    "pop_data.rename(columns={'2003 [YR2003]':2003, '2009 [YR2009]':2009, '2018 [YR2018]':2018}, inplace=True)\n",
    "pop_data.head()"
   ]
  },
  {
   "cell_type": "code",
   "execution_count": null,
   "metadata": {},
   "outputs": [],
   "source": []
  }
 ],
 "metadata": {
  "language_info": {
   "codemirror_mode": {
    "name": "ipython",
    "version": 3
   },
   "file_extension": ".py",
   "mimetype": "text/x-python",
   "name": "python",
   "nbconvert_exporter": "python",
   "pygments_lexer": "ipython3",
   "version": "3.7.6-final"
  },
  "orig_nbformat": 2,
  "kernelspec": {
   "name": "python37664bitpythondataconda9adbda39bd454e7faf6cd0d67b7317a9",
   "display_name": "Python 3.7.6 64-bit ('PythonData': conda)"
  }
 },
 "nbformat": 4,
 "nbformat_minor": 2
}