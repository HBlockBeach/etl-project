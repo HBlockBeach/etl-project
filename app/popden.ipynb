{
 "cells": [
  {
   "cell_type": "code",
   "execution_count": 7,
   "metadata": {},
   "outputs": [],
   "source": [
    "#import dependencies\n",
    "import pandas as pd\n",
    "import requests"
   ]
  },
  {
   "cell_type": "code",
   "execution_count": 8,
   "metadata": {},
   "outputs": [
    {
     "output_type": "execute_result",
     "data": {
      "text/plain": "                                         Series Name  Series Code  \\\n0  Population density (people per sq. km of land ...  EN.POP.DNST   \n1  Population density (people per sq. km of land ...  EN.POP.DNST   \n2  Population density (people per sq. km of land ...  EN.POP.DNST   \n3  Population density (people per sq. km of land ...  EN.POP.DNST   \n4  Population density (people per sq. km of land ...  EN.POP.DNST   \n\n     Country Name Country Code     2003 [YR2003]     2009 [YR2009]  \\\n0     Afghanistan          AFG   36.272510185951  43.4929586741415   \n1         Albania          ALB  110.934890510949  106.843759124088   \n2         Algeria          DZA  13.5464647694543  14.8353224953185   \n3  American Samoa          ASM            297.52           283.415   \n4         Andorra          AND  155.706382978723  179.708510638298   \n\n      2018 [YR2018]  \n0   56.937760009803  \n1  104.612262773723  \n2  17.7300750711665  \n3           277.325  \n4  163.842553191489  ",
      "text/html": "<div>\n<style scoped>\n    .dataframe tbody tr th:only-of-type {\n        vertical-align: middle;\n    }\n\n    .dataframe tbody tr th {\n        vertical-align: top;\n    }\n\n    .dataframe thead th {\n        text-align: right;\n    }\n</style>\n<table border=\"1\" class=\"dataframe\">\n  <thead>\n    <tr style=\"text-align: right;\">\n      <th></th>\n      <th>Series Name</th>\n      <th>Series Code</th>\n      <th>Country Name</th>\n      <th>Country Code</th>\n      <th>2003 [YR2003]</th>\n      <th>2009 [YR2009]</th>\n      <th>2018 [YR2018]</th>\n    </tr>\n  </thead>\n  <tbody>\n    <tr>\n      <th>0</th>\n      <td>Population density (people per sq. km of land ...</td>\n      <td>EN.POP.DNST</td>\n      <td>Afghanistan</td>\n      <td>AFG</td>\n      <td>36.272510185951</td>\n      <td>43.4929586741415</td>\n      <td>56.937760009803</td>\n    </tr>\n    <tr>\n      <th>1</th>\n      <td>Population density (people per sq. km of land ...</td>\n      <td>EN.POP.DNST</td>\n      <td>Albania</td>\n      <td>ALB</td>\n      <td>110.934890510949</td>\n      <td>106.843759124088</td>\n      <td>104.612262773723</td>\n    </tr>\n    <tr>\n      <th>2</th>\n      <td>Population density (people per sq. km of land ...</td>\n      <td>EN.POP.DNST</td>\n      <td>Algeria</td>\n      <td>DZA</td>\n      <td>13.5464647694543</td>\n      <td>14.8353224953185</td>\n      <td>17.7300750711665</td>\n    </tr>\n    <tr>\n      <th>3</th>\n      <td>Population density (people per sq. km of land ...</td>\n      <td>EN.POP.DNST</td>\n      <td>American Samoa</td>\n      <td>ASM</td>\n      <td>297.52</td>\n      <td>283.415</td>\n      <td>277.325</td>\n    </tr>\n    <tr>\n      <th>4</th>\n      <td>Population density (people per sq. km of land ...</td>\n      <td>EN.POP.DNST</td>\n      <td>Andorra</td>\n      <td>AND</td>\n      <td>155.706382978723</td>\n      <td>179.708510638298</td>\n      <td>163.842553191489</td>\n    </tr>\n  </tbody>\n</table>\n</div>"
     },
     "metadata": {},
     "execution_count": 8
    }
   ],
   "source": [
    "#Read in csv data ('03, '09, '18)\n",
    "pop_data = pd.read_csv('resources/popdensity.csv')\n",
    "pop_data.head()"
   ]
  },
  {
   "cell_type": "code",
   "execution_count": 9,
   "metadata": {},
   "outputs": [
    {
     "output_type": "execute_result",
     "data": {
      "text/plain": "     Country Name Country Code     2003 [YR2003]     2009 [YR2009]  \\\n0     Afghanistan          AFG   36.272510185951  43.4929586741415   \n1         Albania          ALB  110.934890510949  106.843759124088   \n2         Algeria          DZA  13.5464647694543  14.8353224953185   \n3  American Samoa          ASM            297.52           283.415   \n4         Andorra          AND  155.706382978723  179.708510638298   \n\n      2018 [YR2018]  \n0   56.937760009803  \n1  104.612262773723  \n2  17.7300750711665  \n3           277.325  \n4  163.842553191489  ",
      "text/html": "<div>\n<style scoped>\n    .dataframe tbody tr th:only-of-type {\n        vertical-align: middle;\n    }\n\n    .dataframe tbody tr th {\n        vertical-align: top;\n    }\n\n    .dataframe thead th {\n        text-align: right;\n    }\n</style>\n<table border=\"1\" class=\"dataframe\">\n  <thead>\n    <tr style=\"text-align: right;\">\n      <th></th>\n      <th>Country Name</th>\n      <th>Country Code</th>\n      <th>2003 [YR2003]</th>\n      <th>2009 [YR2009]</th>\n      <th>2018 [YR2018]</th>\n    </tr>\n  </thead>\n  <tbody>\n    <tr>\n      <th>0</th>\n      <td>Afghanistan</td>\n      <td>AFG</td>\n      <td>36.272510185951</td>\n      <td>43.4929586741415</td>\n      <td>56.937760009803</td>\n    </tr>\n    <tr>\n      <th>1</th>\n      <td>Albania</td>\n      <td>ALB</td>\n      <td>110.934890510949</td>\n      <td>106.843759124088</td>\n      <td>104.612262773723</td>\n    </tr>\n    <tr>\n      <th>2</th>\n      <td>Algeria</td>\n      <td>DZA</td>\n      <td>13.5464647694543</td>\n      <td>14.8353224953185</td>\n      <td>17.7300750711665</td>\n    </tr>\n    <tr>\n      <th>3</th>\n      <td>American Samoa</td>\n      <td>ASM</td>\n      <td>297.52</td>\n      <td>283.415</td>\n      <td>277.325</td>\n    </tr>\n    <tr>\n      <th>4</th>\n      <td>Andorra</td>\n      <td>AND</td>\n      <td>155.706382978723</td>\n      <td>179.708510638298</td>\n      <td>163.842553191489</td>\n    </tr>\n  </tbody>\n</table>\n</div>"
     },
     "metadata": {},
     "execution_count": 9
    }
   ],
   "source": [
    "#Drop extraneous columns\n",
    "pop_data.drop(['Series Name', 'Series Code'], axis=1, inplace=True)\n",
    "pop_data.head()"
   ]
  },
  {
   "cell_type": "code",
   "execution_count": 10,
   "metadata": {},
   "outputs": [
    {
     "output_type": "execute_result",
     "data": {
      "text/plain": "     Country Name Country Code              2003              2009  \\\n0     Afghanistan          AFG   36.272510185951  43.4929586741415   \n1         Albania          ALB  110.934890510949  106.843759124088   \n2         Algeria          DZA  13.5464647694543  14.8353224953185   \n3  American Samoa          ASM            297.52           283.415   \n4         Andorra          AND  155.706382978723  179.708510638298   \n\n               2018  \n0   56.937760009803  \n1  104.612262773723  \n2  17.7300750711665  \n3           277.325  \n4  163.842553191489  ",
      "text/html": "<div>\n<style scoped>\n    .dataframe tbody tr th:only-of-type {\n        vertical-align: middle;\n    }\n\n    .dataframe tbody tr th {\n        vertical-align: top;\n    }\n\n    .dataframe thead th {\n        text-align: right;\n    }\n</style>\n<table border=\"1\" class=\"dataframe\">\n  <thead>\n    <tr style=\"text-align: right;\">\n      <th></th>\n      <th>Country Name</th>\n      <th>Country Code</th>\n      <th>2003</th>\n      <th>2009</th>\n      <th>2018</th>\n    </tr>\n  </thead>\n  <tbody>\n    <tr>\n      <th>0</th>\n      <td>Afghanistan</td>\n      <td>AFG</td>\n      <td>36.272510185951</td>\n      <td>43.4929586741415</td>\n      <td>56.937760009803</td>\n    </tr>\n    <tr>\n      <th>1</th>\n      <td>Albania</td>\n      <td>ALB</td>\n      <td>110.934890510949</td>\n      <td>106.843759124088</td>\n      <td>104.612262773723</td>\n    </tr>\n    <tr>\n      <th>2</th>\n      <td>Algeria</td>\n      <td>DZA</td>\n      <td>13.5464647694543</td>\n      <td>14.8353224953185</td>\n      <td>17.7300750711665</td>\n    </tr>\n    <tr>\n      <th>3</th>\n      <td>American Samoa</td>\n      <td>ASM</td>\n      <td>297.52</td>\n      <td>283.415</td>\n      <td>277.325</td>\n    </tr>\n    <tr>\n      <th>4</th>\n      <td>Andorra</td>\n      <td>AND</td>\n      <td>155.706382978723</td>\n      <td>179.708510638298</td>\n      <td>163.842553191489</td>\n    </tr>\n  </tbody>\n</table>\n</div>"
     },
     "metadata": {},
     "execution_count": 10
    }
   ],
   "source": [
    "#Rename year columns for easier reading\n",
    "pop_data.rename(columns={'2003 [YR2003]':2003, '2009 [YR2009]':2009, '2018 [YR2018]':2018}, inplace=True)\n",
    "pop_data.head()"
   ]
  },
  {
   "cell_type": "code",
   "execution_count": 14,
   "metadata": {},
   "outputs": [
    {
     "output_type": "execute_result",
     "data": {
      "text/plain": "   # Country (or dependency)  Population (2020) Yearly Change  Net Change  \\\n0  1                   China         1439323776        0.39 %     5540090   \n1  2                   India         1380004385        0.99 %    13586631   \n2  3           United States          331002651        0.59 %     1937734   \n3  4               Indonesia          273523615        1.07 %     2898047   \n4  5                Pakistan          220892340        2.00 %     4327022   \n\n   Density (P/Km²)  Land Area (Km²)  Migrants (net) Fert. Rate Med. Age  \\\n0              153          9388211       -348399.0        1.7       38   \n1              464          2973190       -532687.0        2.2       28   \n2               36          9147420        954806.0        1.8       38   \n3              151          1811570        -98955.0        2.3       30   \n4              287           770880       -233379.0        3.6       23   \n\n  Urban Pop % World Share  \n0        61 %     18.47 %  \n1        35 %     17.70 %  \n2        83 %      4.25 %  \n3        56 %      3.51 %  \n4        35 %      2.83 %  ",
      "text/html": "<div>\n<style scoped>\n    .dataframe tbody tr th:only-of-type {\n        vertical-align: middle;\n    }\n\n    .dataframe tbody tr th {\n        vertical-align: top;\n    }\n\n    .dataframe thead th {\n        text-align: right;\n    }\n</style>\n<table border=\"1\" class=\"dataframe\">\n  <thead>\n    <tr style=\"text-align: right;\">\n      <th></th>\n      <th>#</th>\n      <th>Country (or dependency)</th>\n      <th>Population (2020)</th>\n      <th>Yearly Change</th>\n      <th>Net Change</th>\n      <th>Density (P/Km²)</th>\n      <th>Land Area (Km²)</th>\n      <th>Migrants (net)</th>\n      <th>Fert. Rate</th>\n      <th>Med. Age</th>\n      <th>Urban Pop %</th>\n      <th>World Share</th>\n    </tr>\n  </thead>\n  <tbody>\n    <tr>\n      <th>0</th>\n      <td>1</td>\n      <td>China</td>\n      <td>1439323776</td>\n      <td>0.39 %</td>\n      <td>5540090</td>\n      <td>153</td>\n      <td>9388211</td>\n      <td>-348399.0</td>\n      <td>1.7</td>\n      <td>38</td>\n      <td>61 %</td>\n      <td>18.47 %</td>\n    </tr>\n    <tr>\n      <th>1</th>\n      <td>2</td>\n      <td>India</td>\n      <td>1380004385</td>\n      <td>0.99 %</td>\n      <td>13586631</td>\n      <td>464</td>\n      <td>2973190</td>\n      <td>-532687.0</td>\n      <td>2.2</td>\n      <td>28</td>\n      <td>35 %</td>\n      <td>17.70 %</td>\n    </tr>\n    <tr>\n      <th>2</th>\n      <td>3</td>\n      <td>United States</td>\n      <td>331002651</td>\n      <td>0.59 %</td>\n      <td>1937734</td>\n      <td>36</td>\n      <td>9147420</td>\n      <td>954806.0</td>\n      <td>1.8</td>\n      <td>38</td>\n      <td>83 %</td>\n      <td>4.25 %</td>\n    </tr>\n    <tr>\n      <th>3</th>\n      <td>4</td>\n      <td>Indonesia</td>\n      <td>273523615</td>\n      <td>1.07 %</td>\n      <td>2898047</td>\n      <td>151</td>\n      <td>1811570</td>\n      <td>-98955.0</td>\n      <td>2.3</td>\n      <td>30</td>\n      <td>56 %</td>\n      <td>3.51 %</td>\n    </tr>\n    <tr>\n      <th>4</th>\n      <td>5</td>\n      <td>Pakistan</td>\n      <td>220892340</td>\n      <td>2.00 %</td>\n      <td>4327022</td>\n      <td>287</td>\n      <td>770880</td>\n      <td>-233379.0</td>\n      <td>3.6</td>\n      <td>23</td>\n      <td>35 %</td>\n      <td>2.83 %</td>\n    </tr>\n  </tbody>\n</table>\n</div>"
     },
     "metadata": {},
     "execution_count": 14
    }
   ],
   "source": [
    "#Scrape 2020 pop density info from worldometers\n",
    "url = 'https://www.worldometers.info/world-population/population-by-country/'\n",
    "#Set headers to act like a web browser\n",
    "header = {\n",
    "  \"User-Agent\": \"Chrome/81.0.4044.122\",\n",
    "  \"X-Requested-With\": \"XMLHttpRequest\"\n",
    "}\n",
    "#Create request\n",
    "r = requests.get(url, headers=header)\n",
    "#Read through tables in request\n",
    "tables = pd.read_html(r.text)\n",
    "#Check for data\n",
    "tables[0].head()"
   ]
  },
  {
   "cell_type": "code",
   "execution_count": null,
   "metadata": {},
   "outputs": [],
   "source": []
  }
 ],
 "metadata": {
  "language_info": {
   "codemirror_mode": {
    "name": "ipython",
    "version": 3
   },
   "file_extension": ".py",
   "mimetype": "text/x-python",
   "name": "python",
   "nbconvert_exporter": "python",
   "pygments_lexer": "ipython3",
   "version": "3.7.6-final"
  },
  "orig_nbformat": 2,
  "kernelspec": {
   "name": "python37664bitpythondataconda9adbda39bd454e7faf6cd0d67b7317a9",
   "display_name": "Python 3.7.6 64-bit ('PythonData': conda)"
  }
 },
 "nbformat": 4,
 "nbformat_minor": 2
}