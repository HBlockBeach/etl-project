{
 "cells": [
  {
   "cell_type": "code",
   "execution_count": 91,
   "metadata": {},
   "outputs": [],
   "source": [
    "#Import dependencies\n",
    "import pandas as pd\n"
   ]
  },
  {
   "cell_type": "code",
   "execution_count": 92,
   "metadata": {},
   "outputs": [],
   "source": [
    "#Read in data\n",
    "sars_data = pd.read_csv('data/sars_clean.csv')\n",
    "h1n1_data = pd.read_csv('data/h1n1_clean.csv')\n",
    "covid_data = pd.read_csv('data/cleancovids.csv')\n",
    "population_density = pd.read_csv('data/PopulationDensity.csv')"
   ]
  },
  {
   "cell_type": "code",
   "execution_count": 93,
   "metadata": {},
   "outputs": [],
   "source": [
    "#pull country from each table\n",
    "\n",
    "sars_country = sars_data[['Country']]\n",
    "h1n1_country = h1n1_data[['Country']]\n",
    "covid_country = covid_data[['Country']]\n",
    "\n",
    "for country in covid_country[\"Country\"]:\n",
    "    if country == 'Taiwan*':\n",
    "        country = 'Taiwan'\n",
    "\n",
    "\n",
    "#append countries into list \n",
    "two_of_3 = sars_country.append(h1n1_country)\n",
    "combined_countries = two_of_3.append(covid_country)\n"
   ]
  },
  {
   "cell_type": "code",
   "execution_count": 94,
   "metadata": {
    "tags": [
     "outputPrepend",
     "outputPrepend"
    ]
   },
   "outputs": [],
   "source": [
    "#deduplicate data\n",
    "countries = []\n",
    "\n",
    "for row in combined_countries['Country']:\n",
    "    if row not in countries:\n",
    "        countries.append(row)\n",
    "\n",
    "#make list into df\n",
    "countries_table = pd.DataFrame({\"Country\" : countries})"
   ]
  },
  {
   "cell_type": "code",
   "execution_count": 95,
   "metadata": {},
   "outputs": [],
   "source": [
    "#give each country a unique id\n",
    "countries_table[\"Country_ID\"] = countries_table.reset_index().index\n",
    "countries_table = countries_table[['Country_ID', 'Country']]"
   ]
  },
  {
   "cell_type": "code",
   "execution_count": 96,
   "metadata": {},
   "outputs": [],
   "source": [
    "#join tables to give country id\n",
    "\n",
    "sars_country_code = sars_data.merge(countries_table, how='left', left_on='Country', right_on=\"Country\")\n",
    "h1n1_country_code = h1n1_data.merge(countries_table, how='left', left_on='Country', right_on=\"Country\")\n",
    "covid_country_code = covid_data.merge(countries_table, how='left', left_on='Country', right_on=\"Country\")"
   ]
  },
  {
   "cell_type": "code",
   "execution_count": 97,
   "metadata": {},
   "outputs": [],
   "source": [
    "#drop country from dfs\n",
    "sars_country_code.drop('Country', axis=1, inplace=True)\n",
    "h1n1_country_code.drop('Country', axis=1, inplace=True)\n",
    "covid_country_code.drop('Country', axis=1, inplace=True) \n",
    "\n",
    "#add year\n",
    "sars_country_code[\"Year\"] = '2003'\n",
    "h1n1_country_code[\"Year\"] = '2009'\n",
    "covid_country_code[\"Year\"] = '2020'\n",
    "\n",
    "#add disease id\n",
    "\n",
    "sars_country_code[\"Disease_ID\"] = '1'\n",
    "h1n1_country_code[\"Disease_ID\"]= '2'\n",
    "covid_country_code[\"Disease_ID\"] = '3'\n",
    "\n",
    "\n",
    "#create disease table\n",
    "\n",
    "diseases = [\"SARS\" , \"H1N1\", \"COVID19\"]\n",
    "disease_id = [1,2,3]\n",
    "disease_table = pd.DataFrame({\"Disease_ID\" : disease_id, \"Disease_NM\":  diseases})\n",
    "\n"
   ]
  },
  {
   "cell_type": "code",
   "execution_count": 98,
   "metadata": {},
   "outputs": [],
   "source": [
    "##Maniuplate population density for joinability\n",
    "\n",
    "#Rename column names for ease\n",
    "population_density.rename(columns={'2003 Density (P/Km²)': '2003', '2009 Density (P/Km²)': '2009', '2020 Density (P/Km²)' : '2020'}, inplace=True)\n",
    "\n",
    "#create list of years for itteration\n",
    "years = [2003, 2009, 2020]\n",
    "\n",
    "#create empty lists to house data\n",
    "country_data = []\n",
    "year_data = []\n",
    "density_data = []\n",
    "\n",
    "#append each country into list x3 to account for 3 years\n",
    "for row in population_density['Country']:\n",
    "    country_data.append(row)\n",
    "    country_data.append(row)\n",
    "    country_data.append(row)\n",
    "\n",
    "\n",
    "#append each year in years list\n",
    "#length of country list = 480\n",
    "#430/3 = 160\n",
    "for row in range(160):\n",
    "    year_data.append(years[0])\n",
    "    year_data.append(years[1])\n",
    "    year_data.append(years[2])\n",
    "\n",
    "#create dataframe with just year data\n",
    "population_density_year = population_density[['2003', '2009', '2020']]\n",
    "\n",
    "#transpose data from columns to rows\n",
    "population_density_year = population_density_year.transpose()\n",
    "\n",
    "#itterate through columns to append each countries data into a list in year order\n",
    "for column in population_density_year:\n",
    "    pop_density = population_density_year[column]\n",
    "    \n",
    "    density_data.append(pop_density[0])\n",
    "    density_data.append(pop_density[1])\n",
    "    density_data.append(pop_density[2])\n",
    "\n",
    "#create dataframe of all data\n",
    "combined_dataframe = pd.DataFrame({'Country' : country_data, \"Year\" : year_data, \"Density\" : density_data})\n",
    "\n",
    "#join dataframe with countries table to get ids\n",
    "population_density_table = combined_dataframe.merge(countries_table, how='left', left_on='Country', right_on=\"Country\")\n",
    "\n",
    "#drop country\n",
    "population_density_table.drop('Country', axis=1, inplace=True)\n",
    "\n",
    "#reorganize country table\n",
    "population_density_table = population_density_table[[\"Country_ID\", \"Density\", \"Year\" ]]\n",
    "population_density_table = population_density_table[population_density_table.Density != '..']"
   ]
  },
  {
   "cell_type": "code",
   "execution_count": 99,
   "metadata": {},
   "outputs": [],
   "source": [
    "#write each file into csv \n",
    "countries_table.to_csv(\"data/postgres_files/country_table.csv\", index= False)\n",
    "population_density_table.to_csv(\"data/postgres_files/pop_density_table.csv\", index= False)\n",
    "disease_table.to_csv(\"data/postgres_files/disease_table.csv\", index= False)\n",
    "sars_country_code.to_csv(\"data/postgres_files/sars_final.csv\", index= False)\n",
    "h1n1_country_code.to_csv(\"data/postgres_files/h1n1_final.csv\", index= False)\n",
    "covid_country_code.to_csv(\"data/postgres_files/covid_final.csv\", index= False)"
   ]
  },
  {
   "cell_type": "code",
   "execution_count": 10,
   "metadata": {},
   "outputs": [
    {
     "output_type": "error",
     "ename": "AttributeError",
     "evalue": "'DataFrame' object has no attribute 'drop_index'",
     "traceback": [
      "\u001b[0;31m---------------------------------------------------------------------------\u001b[0m",
      "\u001b[0;31mAttributeError\u001b[0m                            Traceback (most recent call last)",
      "\u001b[0;32m<ipython-input-10-c4e81e630fe0>\u001b[0m in \u001b[0;36m<module>\u001b[0;34m\u001b[0m\n\u001b[0;32m----> 1\u001b[0;31m \u001b[0mtroubleshoot\u001b[0m \u001b[0;34m=\u001b[0m \u001b[0mcovid_country_code\u001b[0m\u001b[0;34m.\u001b[0m\u001b[0mdrop_index\u001b[0m\u001b[0;34m(\u001b[0m\u001b[0;34m)\u001b[0m\u001b[0;34m\u001b[0m\u001b[0;34m\u001b[0m\u001b[0m\n\u001b[0m\u001b[1;32m      2\u001b[0m \u001b[0mtroubleshoot\u001b[0m\u001b[0;34m\u001b[0m\u001b[0;34m\u001b[0m\u001b[0m\n",
      "\u001b[0;32m~/anaconda3/envs/PythonData/lib/python3.7/site-packages/pandas/core/generic.py\u001b[0m in \u001b[0;36m__getattr__\u001b[0;34m(self, name)\u001b[0m\n\u001b[1;32m   5272\u001b[0m             \u001b[0;32mif\u001b[0m \u001b[0mself\u001b[0m\u001b[0;34m.\u001b[0m\u001b[0m_info_axis\u001b[0m\u001b[0;34m.\u001b[0m\u001b[0m_can_hold_identifiers_and_holds_name\u001b[0m\u001b[0;34m(\u001b[0m\u001b[0mname\u001b[0m\u001b[0;34m)\u001b[0m\u001b[0;34m:\u001b[0m\u001b[0;34m\u001b[0m\u001b[0;34m\u001b[0m\u001b[0m\n\u001b[1;32m   5273\u001b[0m                 \u001b[0;32mreturn\u001b[0m \u001b[0mself\u001b[0m\u001b[0;34m[\u001b[0m\u001b[0mname\u001b[0m\u001b[0;34m]\u001b[0m\u001b[0;34m\u001b[0m\u001b[0;34m\u001b[0m\u001b[0m\n\u001b[0;32m-> 5274\u001b[0;31m             \u001b[0;32mreturn\u001b[0m \u001b[0mobject\u001b[0m\u001b[0;34m.\u001b[0m\u001b[0m__getattribute__\u001b[0m\u001b[0;34m(\u001b[0m\u001b[0mself\u001b[0m\u001b[0;34m,\u001b[0m \u001b[0mname\u001b[0m\u001b[0;34m)\u001b[0m\u001b[0;34m\u001b[0m\u001b[0;34m\u001b[0m\u001b[0m\n\u001b[0m\u001b[1;32m   5275\u001b[0m \u001b[0;34m\u001b[0m\u001b[0m\n\u001b[1;32m   5276\u001b[0m     \u001b[0;32mdef\u001b[0m \u001b[0m__setattr__\u001b[0m\u001b[0;34m(\u001b[0m\u001b[0mself\u001b[0m\u001b[0;34m,\u001b[0m \u001b[0mname\u001b[0m\u001b[0;34m:\u001b[0m \u001b[0mstr\u001b[0m\u001b[0;34m,\u001b[0m \u001b[0mvalue\u001b[0m\u001b[0;34m)\u001b[0m \u001b[0;34m->\u001b[0m \u001b[0;32mNone\u001b[0m\u001b[0;34m:\u001b[0m\u001b[0;34m\u001b[0m\u001b[0;34m\u001b[0m\u001b[0m\n",
      "\u001b[0;31mAttributeError\u001b[0m: 'DataFrame' object has no attribute 'drop_index'"
     ]
    }
   ],
   "source": []
  }
 ],
 "metadata": {
  "language_info": {
   "codemirror_mode": {
    "name": "ipython",
    "version": 3
   },
   "file_extension": ".py",
   "mimetype": "text/x-python",
   "name": "python",
   "nbconvert_exporter": "python",
   "pygments_lexer": "ipython3",
   "version": "3.7.6-final"
  },
  "orig_nbformat": 2,
  "kernelspec": {
   "name": "python361064bitpythondataconda702a049063da4b8fb25107aa449393fc",
   "display_name": "Python 3.6.10 64-bit ('PythonData': conda)"
  }
 },
 "nbformat": 4,
 "nbformat_minor": 2
}