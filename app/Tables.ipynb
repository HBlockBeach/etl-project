{
 "cells": [
  {
   "cell_type": "code",
   "execution_count": 23,
   "metadata": {},
   "outputs": [],
   "source": [
    "#Import dependencies\n",
    "import pandas as pd\n"
   ]
  },
  {
   "cell_type": "code",
   "execution_count": 24,
   "metadata": {},
   "outputs": [],
   "source": [
    "#Read in data\n",
    "sars_data = pd.read_csv('data/sars_clean.csv')\n",
    "h1n1_data = pd.read_csv('data/h1n1_clean.csv')\n",
    "covid_data = pd.read_csv('data/cleancovids.csv')\n",
    "population_density = pd.read_csv('data/PopulationDensity.csv')"
   ]
  },
  {
   "cell_type": "code",
   "execution_count": 25,
   "metadata": {},
   "outputs": [],
   "source": [
    "#pull country from each table\n",
    "\n",
    "sars_country = sars_data[['Country']]\n",
    "h1n1_country = h1n1_data[['Country']]\n",
    "covid_country = covid_data[['Country']]\n",
    "\n",
    "for country in covid_country[\"Country\"]:\n",
    "    if country == 'Taiwan*':\n",
    "        country = 'Taiwan'\n",
    "\n",
    "\n",
    "#append countries into list \n",
    "two_of_3 = sars_country.append(h1n1_country)\n",
    "combined_countries = two_of_3.append(covid_country)\n"
   ]
  },
  {
   "cell_type": "code",
   "execution_count": 26,
   "metadata": {
    "tags": [
     "outputPrepend",
     "outputPrepend"
    ]
   },
   "outputs": [],
   "source": [
    "#deduplicate data\n",
    "countries = []\n",
    "\n",
    "for row in combined_countries['Country']:\n",
    "    if row not in countries:\n",
    "        countries.append(row)\n",
    "\n",
    "#make list into df\n",
    "countries_table = pd.DataFrame({\"Country\" : countries})"
   ]
  },
  {
   "cell_type": "code",
   "execution_count": 27,
   "metadata": {},
   "outputs": [],
   "source": [
    "#give each country a unique id\n",
    "countries_table[\"Country_ID\"] = countries_table.reset_index().index"
   ]
  },
  {
   "cell_type": "code",
   "execution_count": 28,
   "metadata": {},
   "outputs": [],
   "source": [
    "#join tables to give country id\n",
    "\n",
    "sars_country_code = sars_data.merge(countries_table, how='left', left_on='Country', right_on=\"Country\")\n",
    "h1n1_country_code = h1n1_data.merge(countries_table, how='left', left_on='Country', right_on=\"Country\")\n",
    "covid_country_code = covid_data.merge(countries_table, how='left', left_on='Country', right_on=\"Country\")"
   ]
  },
  {
   "cell_type": "code",
   "execution_count": 29,
   "metadata": {},
   "outputs": [
    {
     "output_type": "execute_result",
     "data": {
      "text/plain": "  Disease_NM  Disease_ID\n0       SARS           1\n1       H1N1           2\n2    COVID19           3",
      "text/html": "<div>\n<style scoped>\n    .dataframe tbody tr th:only-of-type {\n        vertical-align: middle;\n    }\n\n    .dataframe tbody tr th {\n        vertical-align: top;\n    }\n\n    .dataframe thead th {\n        text-align: right;\n    }\n</style>\n<table border=\"1\" class=\"dataframe\">\n  <thead>\n    <tr style=\"text-align: right;\">\n      <th></th>\n      <th>Disease_NM</th>\n      <th>Disease_ID</th>\n    </tr>\n  </thead>\n  <tbody>\n    <tr>\n      <th>0</th>\n      <td>SARS</td>\n      <td>1</td>\n    </tr>\n    <tr>\n      <th>1</th>\n      <td>H1N1</td>\n      <td>2</td>\n    </tr>\n    <tr>\n      <th>2</th>\n      <td>COVID19</td>\n      <td>3</td>\n    </tr>\n  </tbody>\n</table>\n</div>"
     },
     "metadata": {},
     "execution_count": 29
    }
   ],
   "source": [
    "#drop country from dfs\n",
    "sars_country_code.drop('Country', axis=1, inplace=True)\n",
    "h1n1_country_code.drop('Country', axis=1, inplace=True)\n",
    "covid_country_code.drop('Country', axis=1, inplace=True) \n",
    "\n",
    "#add year\n",
    "sars_country_code[\"Year\"] = '2003'\n",
    "h1n1_country_code[\"Year\"] = '2009'\n",
    "covid_country_code[\"Year\"] = '2020'\n",
    "\n",
    "#add disease id\n",
    "\n",
    "sars_country_code[\"Disease_ID\"] = '1'\n",
    "h1n1_country_code[\"Disease_ID\"]= '2'\n",
    "covid_country_code[\"Disease_ID\"] = '3'\n",
    "\n",
    "\n",
    "#create disease table\n",
    "\n",
    "diseases = [\"SARS\" , \"H1N1\", \"COVID19\"]\n",
    "disease_id = [1,2,3]\n",
    "disease_table = pd.DataFrame({\"Disease_NM\":  diseases, \"Disease_ID\" : disease_id})\n",
    "\n"
   ]
  },
  {
   "cell_type": "code",
   "execution_count": 30,
   "metadata": {},
   "outputs": [],
   "source": [
    "##Maniuplate population density for joinability\n",
    "\n",
    "#Rename column names for ease\n",
    "population_density.rename(columns={'2003 Density (P/Km²)': '2003', '2009 Density (P/Km²)': '2009', '2020 Density (P/Km²)' : '2020'}, inplace=True)\n",
    "\n",
    "#create list of years for itteration\n",
    "years = [2003, 2009, 2020]\n",
    "\n",
    "#create empty lists to house data\n",
    "country_data = []\n",
    "year_data = []\n",
    "density_data = []\n",
    "\n",
    "#append each country into list x3 to account for 3 years\n",
    "for row in population_density['Country']:\n",
    "    country_data.append(row)\n",
    "    country_data.append(row)\n",
    "    country_data.append(row)\n",
    "\n",
    "\n",
    "#append each year in years list\n",
    "#length of country list = 480\n",
    "#430/3 = 160\n",
    "for row in range(160):\n",
    "    year_data.append(years[0])\n",
    "    year_data.append(years[1])\n",
    "    year_data.append(years[2])\n",
    "\n",
    "#create dataframe with just year data\n",
    "population_density_year = population_density[['2003', '2009', '2020']]\n",
    "\n",
    "#transpose data from columns to rows\n",
    "population_density_year = population_density_year.transpose()\n",
    "\n",
    "#itterate through columns to append each countries data into a list in year order\n",
    "for column in population_density_year:\n",
    "    pop_density = population_density_year[column]\n",
    "    \n",
    "    density_data.append(pop_density[0])\n",
    "    density_data.append(pop_density[1])\n",
    "    density_data.append(pop_density[2])\n",
    "\n",
    "#create dataframe of all data\n",
    "combined_dataframe = pd.DataFrame({'Country' : country_data, \"Year\" : year_data, \"Density\" : density_data})\n",
    "\n",
    "#join dataframe with countries table to get ids\n",
    "population_density_table = combined_dataframe.merge(countries_table, how='left', left_on='Country', right_on=\"Country\")\n",
    "\n",
    "#drop country\n",
    "population_density_table.drop('Country', axis=1, inplace=True)"
   ]
  },
  {
   "cell_type": "code",
   "execution_count": 31,
   "metadata": {},
   "outputs": [],
   "source": [
    "#write each file into csv \n",
    "countries_table.to_csv(\"data/postgres_files/country_table.csv\")\n",
    "population_density_table.to_csv(\"data/postgres_files/pop_density_table.csv\")\n",
    "disease_table.to_csv(\"data/postgres_files/disease_table.csv\")\n",
    "sars_country_code.to_csv(\"data/postgres_files/sars_final.csv\")\n",
    "h1n1_country_code.to_csv(\"data/postgres_files/h1n1_final.csv\")\n",
    "covid_country_code.to_csv(\"data/postgres_files/covid_final.csv\")"
   ]
  },
  {
   "cell_type": "code",
   "execution_count": null,
   "metadata": {},
   "outputs": [],
   "source": []
  }
 ],
 "metadata": {
  "language_info": {
   "codemirror_mode": {
    "name": "ipython",
    "version": 3
   },
   "file_extension": ".py",
   "mimetype": "text/x-python",
   "name": "python",
   "nbconvert_exporter": "python",
   "pygments_lexer": "ipython3",
   "version": "3.7.6-final"
  },
  "orig_nbformat": 2,
  "kernelspec": {
   "name": "python361064bitpythondataconda702a049063da4b8fb25107aa449393fc",
   "display_name": "Python 3.6.10 64-bit ('PythonData': conda)"
  }
 },
 "nbformat": 4,
 "nbformat_minor": 2
}