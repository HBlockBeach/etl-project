{
 "cells": [
  {
   "cell_type": "code",
   "execution_count": 23,
   "metadata": {},
   "outputs": [],
   "source": [
    "#Import dependencies\n",
    "import pandas as pd\n",
    "import datetime as dt"
   ]
  },
  {
   "cell_type": "code",
   "execution_count": 3,
   "metadata": {},
   "outputs": [
    {
     "output_type": "execute_result",
     "data": {
      "text/plain": "         Date               Country  Cumulative number of case(s)  \\\n0  2003-03-17               Germany                             1   \n1  2003-03-17                Canada                             8   \n2  2003-03-17             Singapore                            20   \n3  2003-03-17  Hong Kong SAR, China                            95   \n4  2003-03-17           Switzerland                             2   \n\n   Number of deaths  Number recovered  \n0                 0                 0  \n1                 2                 0  \n2                 0                 0  \n3                 1                 0  \n4                 0                 0  ",
      "text/html": "<div>\n<style scoped>\n    .dataframe tbody tr th:only-of-type {\n        vertical-align: middle;\n    }\n\n    .dataframe tbody tr th {\n        vertical-align: top;\n    }\n\n    .dataframe thead th {\n        text-align: right;\n    }\n</style>\n<table border=\"1\" class=\"dataframe\">\n  <thead>\n    <tr style=\"text-align: right;\">\n      <th></th>\n      <th>Date</th>\n      <th>Country</th>\n      <th>Cumulative number of case(s)</th>\n      <th>Number of deaths</th>\n      <th>Number recovered</th>\n    </tr>\n  </thead>\n  <tbody>\n    <tr>\n      <th>0</th>\n      <td>2003-03-17</td>\n      <td>Germany</td>\n      <td>1</td>\n      <td>0</td>\n      <td>0</td>\n    </tr>\n    <tr>\n      <th>1</th>\n      <td>2003-03-17</td>\n      <td>Canada</td>\n      <td>8</td>\n      <td>2</td>\n      <td>0</td>\n    </tr>\n    <tr>\n      <th>2</th>\n      <td>2003-03-17</td>\n      <td>Singapore</td>\n      <td>20</td>\n      <td>0</td>\n      <td>0</td>\n    </tr>\n    <tr>\n      <th>3</th>\n      <td>2003-03-17</td>\n      <td>Hong Kong SAR, China</td>\n      <td>95</td>\n      <td>1</td>\n      <td>0</td>\n    </tr>\n    <tr>\n      <th>4</th>\n      <td>2003-03-17</td>\n      <td>Switzerland</td>\n      <td>2</td>\n      <td>0</td>\n      <td>0</td>\n    </tr>\n  </tbody>\n</table>\n</div>"
     },
     "metadata": {},
     "execution_count": 3
    }
   ],
   "source": [
    "#Read in sars data\n",
    "sars_data = pd.read_csv('resources/sars.csv')\n",
    "#Check data was read in\n",
    "sars_data.head()"
   ]
  },
  {
   "cell_type": "code",
   "execution_count": 4,
   "metadata": {},
   "outputs": [
    {
     "output_type": "execute_result",
     "data": {
      "text/plain": "         Date               Country  Cumulative number of case(s)  \\\n0  2003-03-17               Germany                             1   \n1  2003-03-17                Canada                             8   \n2  2003-03-17             Singapore                            20   \n3  2003-03-17  Hong Kong SAR, China                            95   \n4  2003-03-17           Switzerland                             2   \n\n   Number of deaths  \n0                 0  \n1                 2  \n2                 0  \n3                 1  \n4                 0  ",
      "text/html": "<div>\n<style scoped>\n    .dataframe tbody tr th:only-of-type {\n        vertical-align: middle;\n    }\n\n    .dataframe tbody tr th {\n        vertical-align: top;\n    }\n\n    .dataframe thead th {\n        text-align: right;\n    }\n</style>\n<table border=\"1\" class=\"dataframe\">\n  <thead>\n    <tr style=\"text-align: right;\">\n      <th></th>\n      <th>Date</th>\n      <th>Country</th>\n      <th>Cumulative number of case(s)</th>\n      <th>Number of deaths</th>\n    </tr>\n  </thead>\n  <tbody>\n    <tr>\n      <th>0</th>\n      <td>2003-03-17</td>\n      <td>Germany</td>\n      <td>1</td>\n      <td>0</td>\n    </tr>\n    <tr>\n      <th>1</th>\n      <td>2003-03-17</td>\n      <td>Canada</td>\n      <td>8</td>\n      <td>2</td>\n    </tr>\n    <tr>\n      <th>2</th>\n      <td>2003-03-17</td>\n      <td>Singapore</td>\n      <td>20</td>\n      <td>0</td>\n    </tr>\n    <tr>\n      <th>3</th>\n      <td>2003-03-17</td>\n      <td>Hong Kong SAR, China</td>\n      <td>95</td>\n      <td>1</td>\n    </tr>\n    <tr>\n      <th>4</th>\n      <td>2003-03-17</td>\n      <td>Switzerland</td>\n      <td>2</td>\n      <td>0</td>\n    </tr>\n  </tbody>\n</table>\n</div>"
     },
     "metadata": {},
     "execution_count": 4
    }
   ],
   "source": [
    "#Remove recovered data\n",
    "sars_data.drop('Number recovered', axis=1, inplace=True)\n",
    "sars_data.head()"
   ]
  },
  {
   "cell_type": "code",
   "execution_count": 34,
   "metadata": {
    "tags": [
     "outputPrepend",
     "outputPrepend",
     "outputPrepend"
    ]
   },
   "outputs": [
    {
     "output_type": "execute_result",
     "data": {
      "text/plain": "                Country  Cumulative number of case(s)  Number of deaths  Week\n0               Germany                             1                 0     1\n1                Canada                             8                 2     1\n2             Singapore                            20                 0     1\n3  Hong Kong SAR, China                            95                 1     1\n4           Switzerland                             2                 0     1",
      "text/html": "<div>\n<style scoped>\n    .dataframe tbody tr th:only-of-type {\n        vertical-align: middle;\n    }\n\n    .dataframe tbody tr th {\n        vertical-align: top;\n    }\n\n    .dataframe thead th {\n        text-align: right;\n    }\n</style>\n<table border=\"1\" class=\"dataframe\">\n  <thead>\n    <tr style=\"text-align: right;\">\n      <th></th>\n      <th>Country</th>\n      <th>Cumulative number of case(s)</th>\n      <th>Number of deaths</th>\n      <th>Week</th>\n    </tr>\n  </thead>\n  <tbody>\n    <tr>\n      <th>0</th>\n      <td>Germany</td>\n      <td>1</td>\n      <td>0</td>\n      <td>1</td>\n    </tr>\n    <tr>\n      <th>1</th>\n      <td>Canada</td>\n      <td>8</td>\n      <td>2</td>\n      <td>1</td>\n    </tr>\n    <tr>\n      <th>2</th>\n      <td>Singapore</td>\n      <td>20</td>\n      <td>0</td>\n      <td>1</td>\n    </tr>\n    <tr>\n      <th>3</th>\n      <td>Hong Kong SAR, China</td>\n      <td>95</td>\n      <td>1</td>\n      <td>1</td>\n    </tr>\n    <tr>\n      <th>4</th>\n      <td>Switzerland</td>\n      <td>2</td>\n      <td>0</td>\n      <td>1</td>\n    </tr>\n  </tbody>\n</table>\n</div>"
     },
     "metadata": {},
     "execution_count": 34
    }
   ],
   "source": [
    "#Assign data to week progression of pandemic\n",
    "#Set Date column to datetime type\n",
    "dates = pd.to_datetime(sars_data.Date, yearfirst=True)\n",
    "#Set first date in data\n",
    "firstdate = dates[0]\n",
    "#Parse trough dates to assign weeks\n",
    "weeks = []\n",
    "week = 1\n",
    "i = 0\n",
    "for date in dates:\n",
    "    if firstdate <= date <= firstdate + dt.timedelta(days=7):\n",
    "        weeks.append(week)\n",
    "        i += 1\n",
    "    else:\n",
    "        firstdate = dates[i]\n",
    "        week += 1\n",
    "        weeks.append(week)\n",
    "        i += 1\n",
    "#Set data to appropriate week\n",
    "sars_data['Week'] = weeks\n",
    "#Drop unneeded Date column\n",
    "sars_data.drop('Date', axis=1, inplace=True)\n",
    "sars_data.head()"
   ]
  },
  {
   "cell_type": "code",
   "execution_count": 39,
   "metadata": {},
   "outputs": [
    {
     "output_type": "execute_result",
     "data": {
      "text/plain": "       Country  Cumulative number of case(s)  Number of deaths  Week\n0      Germany                             1                 0     1\n1       Canada                             8                 2     1\n2    Singapore                            20                 0     1\n3        China                            95                 1     1\n4  Switzerland                             2                 0     1",
      "text/html": "<div>\n<style scoped>\n    .dataframe tbody tr th:only-of-type {\n        vertical-align: middle;\n    }\n\n    .dataframe tbody tr th {\n        vertical-align: top;\n    }\n\n    .dataframe thead th {\n        text-align: right;\n    }\n</style>\n<table border=\"1\" class=\"dataframe\">\n  <thead>\n    <tr style=\"text-align: right;\">\n      <th></th>\n      <th>Country</th>\n      <th>Cumulative number of case(s)</th>\n      <th>Number of deaths</th>\n      <th>Week</th>\n    </tr>\n  </thead>\n  <tbody>\n    <tr>\n      <th>0</th>\n      <td>Germany</td>\n      <td>1</td>\n      <td>0</td>\n      <td>1</td>\n    </tr>\n    <tr>\n      <th>1</th>\n      <td>Canada</td>\n      <td>8</td>\n      <td>2</td>\n      <td>1</td>\n    </tr>\n    <tr>\n      <th>2</th>\n      <td>Singapore</td>\n      <td>20</td>\n      <td>0</td>\n      <td>1</td>\n    </tr>\n    <tr>\n      <th>3</th>\n      <td>China</td>\n      <td>95</td>\n      <td>1</td>\n      <td>1</td>\n    </tr>\n    <tr>\n      <th>4</th>\n      <td>Switzerland</td>\n      <td>2</td>\n      <td>0</td>\n      <td>1</td>\n    </tr>\n  </tbody>\n</table>\n</div>"
     },
     "metadata": {},
     "execution_count": 39
    }
   ],
   "source": [
    "#Clean Country names\n",
    "countries = sars_data.Country.to_list()\n",
    "countries_clean = []\n",
    "for country in countries:\n",
    "    #Set Hong Kong & Macao to China\n",
    "    if 'Hong Kong' in country or 'Macao' in country:\n",
    "        country = 'China'\n",
    "        countries_clean.append(country)\n",
    "    #Fix Veitnam's name\n",
    "    elif country == 'Viet Nam':\n",
    "        country = 'Vietnam'\n",
    "        countries_clean.append(country)\n",
    "    #Set Taiwan to Taiwan\n",
    "    elif 'Taiwan' in country:\n",
    "        country = 'Taiwan'\n",
    "        countries_clean.append(country)\n",
    "    #Set Russian Federation to Russia\n",
    "    elif country == 'Russian Federation':\n",
    "        country = 'Russia'\n",
    "        countries_clean.append(country)\n",
    "    #Append directly to clean list if no cleaning necessary\n",
    "    else:\n",
    "        countries_clean.append(country)\n",
    "#Reset Country column to cleaned names\n",
    "sars_data['Country'] = countries_clean\n",
    "sars_data.head()"
   ]
  },
  {
   "cell_type": "code",
   "execution_count": 41,
   "metadata": {},
   "outputs": [
    {
     "output_type": "execute_result",
     "data": {
      "text/plain": "       Country  Cases  Deaths  Week\n0      Germany      1       0     1\n1       Canada      8       2     1\n2    Singapore     20       0     1\n3        China     95       1     1\n4  Switzerland      2       0     1",
      "text/html": "<div>\n<style scoped>\n    .dataframe tbody tr th:only-of-type {\n        vertical-align: middle;\n    }\n\n    .dataframe tbody tr th {\n        vertical-align: top;\n    }\n\n    .dataframe thead th {\n        text-align: right;\n    }\n</style>\n<table border=\"1\" class=\"dataframe\">\n  <thead>\n    <tr style=\"text-align: right;\">\n      <th></th>\n      <th>Country</th>\n      <th>Cases</th>\n      <th>Deaths</th>\n      <th>Week</th>\n    </tr>\n  </thead>\n  <tbody>\n    <tr>\n      <th>0</th>\n      <td>Germany</td>\n      <td>1</td>\n      <td>0</td>\n      <td>1</td>\n    </tr>\n    <tr>\n      <th>1</th>\n      <td>Canada</td>\n      <td>8</td>\n      <td>2</td>\n      <td>1</td>\n    </tr>\n    <tr>\n      <th>2</th>\n      <td>Singapore</td>\n      <td>20</td>\n      <td>0</td>\n      <td>1</td>\n    </tr>\n    <tr>\n      <th>3</th>\n      <td>China</td>\n      <td>95</td>\n      <td>1</td>\n      <td>1</td>\n    </tr>\n    <tr>\n      <th>4</th>\n      <td>Switzerland</td>\n      <td>2</td>\n      <td>0</td>\n      <td>1</td>\n    </tr>\n  </tbody>\n</table>\n</div>"
     },
     "metadata": {},
     "execution_count": 41
    }
   ],
   "source": [
    "#Rename columns for consistancy\n",
    "sars_data.rename(columns={'Cumulative number of case(s)':'Cases','Number of deaths':'Deaths'}, inplace=True)\n",
    "sars_data.head()"
   ]
  },
  {
   "cell_type": "code",
   "execution_count": 43,
   "metadata": {},
   "outputs": [
    {
     "output_type": "execute_result",
     "data": {
      "text/plain": "              Cases  Deaths\nWeek Country               \n1    Canada       7       7\n     China       13      13\n     France       1       1\n     Germany      7       7\n     Italy        3       3",
      "text/html": "<div>\n<style scoped>\n    .dataframe tbody tr th:only-of-type {\n        vertical-align: middle;\n    }\n\n    .dataframe tbody tr th {\n        vertical-align: top;\n    }\n\n    .dataframe thead th {\n        text-align: right;\n    }\n</style>\n<table border=\"1\" class=\"dataframe\">\n  <thead>\n    <tr style=\"text-align: right;\">\n      <th></th>\n      <th></th>\n      <th>Cases</th>\n      <th>Deaths</th>\n    </tr>\n    <tr>\n      <th>Week</th>\n      <th>Country</th>\n      <th></th>\n      <th></th>\n    </tr>\n  </thead>\n  <tbody>\n    <tr>\n      <th rowspan=\"5\" valign=\"top\">1</th>\n      <th>Canada</th>\n      <td>7</td>\n      <td>7</td>\n    </tr>\n    <tr>\n      <th>China</th>\n      <td>13</td>\n      <td>13</td>\n    </tr>\n    <tr>\n      <th>France</th>\n      <td>1</td>\n      <td>1</td>\n    </tr>\n    <tr>\n      <th>Germany</th>\n      <td>7</td>\n      <td>7</td>\n    </tr>\n    <tr>\n      <th>Italy</th>\n      <td>3</td>\n      <td>3</td>\n    </tr>\n  </tbody>\n</table>\n</div>"
     },
     "metadata": {},
     "execution_count": 43
    }
   ],
   "source": [
    "#Group data by week and country\n",
    "sars_group = sars_data.groupby(['Week', 'Country'])\n",
    "sars_group.count().head()"
   ]
  },
  {
   "cell_type": "code",
   "execution_count": null,
   "metadata": {},
   "outputs": [],
   "source": []
  }
 ],
 "metadata": {
  "language_info": {
   "codemirror_mode": {
    "name": "ipython",
    "version": 3
   },
   "file_extension": ".py",
   "mimetype": "text/x-python",
   "name": "python",
   "nbconvert_exporter": "python",
   "pygments_lexer": "ipython3",
   "version": "3.7.6-final"
  },
  "orig_nbformat": 2,
  "kernelspec": {
   "name": "python37664bitpythondataconda9adbda39bd454e7faf6cd0d67b7317a9",
   "display_name": "Python 3.7.6 64-bit ('PythonData': conda)"
  }
 },
 "nbformat": 4,
 "nbformat_minor": 2
}