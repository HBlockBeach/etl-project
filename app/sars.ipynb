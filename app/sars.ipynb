{
 "cells": [
  {
   "cell_type": "code",
   "execution_count": 1,
   "metadata": {},
   "outputs": [],
   "source": [
    "#Import dependencies\n",
    "import pandas as pd"
   ]
  },
  {
   "cell_type": "code",
   "execution_count": 3,
   "metadata": {},
   "outputs": [
    {
     "output_type": "execute_result",
     "data": {
      "text/plain": "         Date               Country  Cumulative number of case(s)  \\\n0  2003-03-17               Germany                             1   \n1  2003-03-17                Canada                             8   \n2  2003-03-17             Singapore                            20   \n3  2003-03-17  Hong Kong SAR, China                            95   \n4  2003-03-17           Switzerland                             2   \n\n   Number of deaths  Number recovered  \n0                 0                 0  \n1                 2                 0  \n2                 0                 0  \n3                 1                 0  \n4                 0                 0  ",
      "text/html": "<div>\n<style scoped>\n    .dataframe tbody tr th:only-of-type {\n        vertical-align: middle;\n    }\n\n    .dataframe tbody tr th {\n        vertical-align: top;\n    }\n\n    .dataframe thead th {\n        text-align: right;\n    }\n</style>\n<table border=\"1\" class=\"dataframe\">\n  <thead>\n    <tr style=\"text-align: right;\">\n      <th></th>\n      <th>Date</th>\n      <th>Country</th>\n      <th>Cumulative number of case(s)</th>\n      <th>Number of deaths</th>\n      <th>Number recovered</th>\n    </tr>\n  </thead>\n  <tbody>\n    <tr>\n      <th>0</th>\n      <td>2003-03-17</td>\n      <td>Germany</td>\n      <td>1</td>\n      <td>0</td>\n      <td>0</td>\n    </tr>\n    <tr>\n      <th>1</th>\n      <td>2003-03-17</td>\n      <td>Canada</td>\n      <td>8</td>\n      <td>2</td>\n      <td>0</td>\n    </tr>\n    <tr>\n      <th>2</th>\n      <td>2003-03-17</td>\n      <td>Singapore</td>\n      <td>20</td>\n      <td>0</td>\n      <td>0</td>\n    </tr>\n    <tr>\n      <th>3</th>\n      <td>2003-03-17</td>\n      <td>Hong Kong SAR, China</td>\n      <td>95</td>\n      <td>1</td>\n      <td>0</td>\n    </tr>\n    <tr>\n      <th>4</th>\n      <td>2003-03-17</td>\n      <td>Switzerland</td>\n      <td>2</td>\n      <td>0</td>\n      <td>0</td>\n    </tr>\n  </tbody>\n</table>\n</div>"
     },
     "metadata": {},
     "execution_count": 3
    }
   ],
   "source": [
    "#Read in sars data\n",
    "sars_data = pd.read_csv('resources/sars.csv')\n",
    "#Check data was read in\n",
    "sars_data.head()"
   ]
  },
  {
   "cell_type": "code",
   "execution_count": 4,
   "metadata": {},
   "outputs": [
    {
     "output_type": "execute_result",
     "data": {
      "text/plain": "         Date               Country  Cumulative number of case(s)  \\\n0  2003-03-17               Germany                             1   \n1  2003-03-17                Canada                             8   \n2  2003-03-17             Singapore                            20   \n3  2003-03-17  Hong Kong SAR, China                            95   \n4  2003-03-17           Switzerland                             2   \n\n   Number of deaths  \n0                 0  \n1                 2  \n2                 0  \n3                 1  \n4                 0  ",
      "text/html": "<div>\n<style scoped>\n    .dataframe tbody tr th:only-of-type {\n        vertical-align: middle;\n    }\n\n    .dataframe tbody tr th {\n        vertical-align: top;\n    }\n\n    .dataframe thead th {\n        text-align: right;\n    }\n</style>\n<table border=\"1\" class=\"dataframe\">\n  <thead>\n    <tr style=\"text-align: right;\">\n      <th></th>\n      <th>Date</th>\n      <th>Country</th>\n      <th>Cumulative number of case(s)</th>\n      <th>Number of deaths</th>\n    </tr>\n  </thead>\n  <tbody>\n    <tr>\n      <th>0</th>\n      <td>2003-03-17</td>\n      <td>Germany</td>\n      <td>1</td>\n      <td>0</td>\n    </tr>\n    <tr>\n      <th>1</th>\n      <td>2003-03-17</td>\n      <td>Canada</td>\n      <td>8</td>\n      <td>2</td>\n    </tr>\n    <tr>\n      <th>2</th>\n      <td>2003-03-17</td>\n      <td>Singapore</td>\n      <td>20</td>\n      <td>0</td>\n    </tr>\n    <tr>\n      <th>3</th>\n      <td>2003-03-17</td>\n      <td>Hong Kong SAR, China</td>\n      <td>95</td>\n      <td>1</td>\n    </tr>\n    <tr>\n      <th>4</th>\n      <td>2003-03-17</td>\n      <td>Switzerland</td>\n      <td>2</td>\n      <td>0</td>\n    </tr>\n  </tbody>\n</table>\n</div>"
     },
     "metadata": {},
     "execution_count": 4
    }
   ],
   "source": [
    "#Remove recovered data\n",
    "sars_data.drop('Number recovered', axis=1, inplace=True)\n",
    "sars_data.head()"
   ]
  },
  {
   "cell_type": "code",
   "execution_count": 15,
   "metadata": {},
   "outputs": [
    {
     "output_type": "execute_result",
     "data": {
      "text/plain": "array(['2003-03-17', '2003-03-18', '2003-03-19', '2003-03-20',\n       '2003-03-21', '2003-03-22', '2003-03-24', '2003-03-25',\n       '2003-03-26', '2003-03-27', '2003-03-28', '2003-03-29',\n       '2003-03-31', '2003-04-01', '2003-04-02', '2003-04-03',\n       '2003-04-04', '2003-04-05', '2003-04-07', '2003-04-08',\n       '2003-04-09', '2003-04-10', '2003-04-11', '2003-04-12',\n       '2003-04-14', '2003-04-15', '2003-04-16', '2003-04-17',\n       '2003-04-18', '2003-04-19', '2003-04-21', '2003-04-22',\n       '2003-04-23', '2003-04-24', '2003-04-25', '2003-04-26',\n       '2003-04-28', '2003-04-29', '2003-04-30', '2003-05-01',\n       '2003-05-02', '2003-05-03', '2003-05-05', '2003-05-06',\n       '2003-05-07', '2003-05-08', '2003-05-09', '2003-05-10',\n       '2003-05-12', '2003-05-13', '2003-05-14', '2003-05-15',\n       '2003-05-16', '2003-05-17', '2003-05-19', '2003-05-20',\n       '2003-05-21', '2003-05-22', '2003-05-23', '2003-05-24',\n       '2003-05-26', '2003-05-27', '2003-05-28', '2003-05-29',\n       '2003-05-30', '2003-05-31', '2003-06-02', '2003-06-03',\n       '2003-06-04', '2003-06-05', '2003-06-06', '2003-06-09',\n       '2003-06-10', '2003-06-11', '2003-06-12', '2003-06-13',\n       '2003-06-16', '2003-06-17', '2003-06-18', '2003-06-19',\n       '2003-06-20', '2003-06-23', '2003-06-24', '2003-06-25',\n       '2003-06-26', '2003-06-27', '2003-06-30', '2003-07-01',\n       '2003-07-02', '2003-07-03', '2003-07-04', '2003-07-07',\n       '2003-07-08', '2003-07-09', '2003-07-10', '2003-07-11'],\n      dtype=object)"
     },
     "metadata": {},
     "execution_count": 15
    }
   ],
   "source": [
    "#Assign data to week progression of pandemic\n",
    "dates = sars_data.Date.to_list()\n",
    "weeks = []\n",
    "for date in dates:\n",
    "    #Week 1\n",
    "    if date == '2003-03-17' or date == '2003-03-18' or date == '2003-03-19' or date == '2003-03-20' or date == '2003-03-21'/       or date == '2003-03-22' or date == '2003-03-24':\n",
    "        weeks.append(1)\n",
    "    #Week 2\n",
    "    elif date == '2003-03-25' or date == '2003-03-26' or date == '2003-03-27' or date == '2003-03-28' or date == '2003-03-29'/\n",
    "    or date == '2003-03-31' or date == '2003-04-01':\n",
    "        weeks.append(2)\n",
    "    #Week 3\n",
    "    elif date == '2003-04-02' or date == '2003-04-03' or date == '2003-04-04' or date == '2003-04-05' or date == '2003-04-07'/     or date == '2003-04-08' or date == '2003-04-09':\n",
    "        weeks.append(3)\n",
    "    #Week 4\n",
    "    "
   ]
  },
  {
   "cell_type": "code",
   "execution_count": null,
   "metadata": {},
   "outputs": [],
   "source": []
  }
 ],
 "metadata": {
  "language_info": {
   "codemirror_mode": {
    "name": "ipython",
    "version": 3
   },
   "file_extension": ".py",
   "mimetype": "text/x-python",
   "name": "python",
   "nbconvert_exporter": "python",
   "pygments_lexer": "ipython3",
   "version": "3.7.6-final"
  },
  "orig_nbformat": 2,
  "kernelspec": {
   "name": "python37664bitpythondataconda9adbda39bd454e7faf6cd0d67b7317a9",
   "display_name": "Python 3.7.6 64-bit ('PythonData': conda)"
  }
 },
 "nbformat": 4,
 "nbformat_minor": 2
}